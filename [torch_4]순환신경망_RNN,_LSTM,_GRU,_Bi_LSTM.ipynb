{
  "cells": [
    {
      "cell_type": "markdown",
      "metadata": {
        "id": "view-in-github",
        "colab_type": "text"
      },
      "source": [
        "<a href=\"https://colab.research.google.com/github/xxxnmxhj00/Pythorch/blob/main/%5Btorch_4%5D%EC%88%9C%ED%99%98%EC%8B%A0%EA%B2%BD%EB%A7%9D_RNN%2C_LSTM%2C_GRU%2C_Bi_LSTM.ipynb\" target=\"_parent\"><img src=\"https://colab.research.google.com/assets/colab-badge.svg\" alt=\"Open In Colab\"/></a>"
      ]
    },
    {
      "cell_type": "code",
      "execution_count": null,
      "metadata": {
        "id": "pqLGXyXfqY3x",
        "colab": {
          "base_uri": "https://localhost:8080/"
        },
        "outputId": "035662ec-5c35-43fe-d8b2-8c72c3cdd186"
      },
      "outputs": [
        {
          "output_type": "stream",
          "name": "stdout",
          "text": [
            "Looking in links: https://download.pytorch.org/whl/torch_stable.html\n",
            "Collecting torch==1.11.0+cu113\n",
            "  Downloading https://download.pytorch.org/whl/cu113/torch-1.11.0%2Bcu113-cp310-cp310-linux_x86_64.whl (1637.0 MB)\n",
            "\u001b[2K     \u001b[90m━━━━━━━━━━━━━━━━━━━━━━━━━━━━━━━━━━━━━━━━\u001b[0m \u001b[32m1.6/1.6 GB\u001b[0m \u001b[31m784.3 kB/s\u001b[0m eta \u001b[36m0:00:00\u001b[0m\n",
            "\u001b[?25hCollecting torchvision==0.12.0+cu113\n",
            "  Downloading https://download.pytorch.org/whl/cu113/torchvision-0.12.0%2Bcu113-cp310-cp310-linux_x86_64.whl (22.3 MB)\n",
            "\u001b[2K     \u001b[90m━━━━━━━━━━━━━━━━━━━━━━━━━━━━━━━━━━━━━━━━\u001b[0m \u001b[32m22.3/22.3 MB\u001b[0m \u001b[31m46.0 MB/s\u001b[0m eta \u001b[36m0:00:00\u001b[0m\n",
            "\u001b[?25hCollecting torchaudio==0.11.0+cu113\n",
            "  Downloading https://download.pytorch.org/whl/cu113/torchaudio-0.11.0%2Bcu113-cp310-cp310-linux_x86_64.whl (2.9 MB)\n",
            "\u001b[2K     \u001b[90m━━━━━━━━━━━━━━━━━━━━━━━━━━━━━━━━━━━━━━━━\u001b[0m \u001b[32m2.9/2.9 MB\u001b[0m \u001b[31m59.2 MB/s\u001b[0m eta \u001b[36m0:00:00\u001b[0m\n",
            "\u001b[?25hCollecting torchtext==0.6.0\n",
            "  Downloading torchtext-0.6.0-py3-none-any.whl.metadata (6.3 kB)\n",
            "Requirement already satisfied: typing-extensions in /usr/local/lib/python3.10/dist-packages (from torch==1.11.0+cu113) (4.12.2)\n",
            "Requirement already satisfied: numpy in /usr/local/lib/python3.10/dist-packages (from torchvision==0.12.0+cu113) (1.26.4)\n",
            "Requirement already satisfied: requests in /usr/local/lib/python3.10/dist-packages (from torchvision==0.12.0+cu113) (2.32.3)\n",
            "Requirement already satisfied: pillow!=8.3.*,>=5.3.0 in /usr/local/lib/python3.10/dist-packages (from torchvision==0.12.0+cu113) (9.4.0)\n",
            "Requirement already satisfied: tqdm in /usr/local/lib/python3.10/dist-packages (from torchtext==0.6.0) (4.66.5)\n",
            "Requirement already satisfied: six in /usr/local/lib/python3.10/dist-packages (from torchtext==0.6.0) (1.16.0)\n",
            "Requirement already satisfied: sentencepiece in /usr/local/lib/python3.10/dist-packages (from torchtext==0.6.0) (0.1.99)\n",
            "Requirement already satisfied: charset-normalizer<4,>=2 in /usr/local/lib/python3.10/dist-packages (from requests->torchvision==0.12.0+cu113) (3.3.2)\n",
            "Requirement already satisfied: idna<4,>=2.5 in /usr/local/lib/python3.10/dist-packages (from requests->torchvision==0.12.0+cu113) (3.7)\n",
            "Requirement already satisfied: urllib3<3,>=1.21.1 in /usr/local/lib/python3.10/dist-packages (from requests->torchvision==0.12.0+cu113) (2.0.7)\n",
            "Requirement already satisfied: certifi>=2017.4.17 in /usr/local/lib/python3.10/dist-packages (from requests->torchvision==0.12.0+cu113) (2024.7.4)\n",
            "Downloading torchtext-0.6.0-py3-none-any.whl (64 kB)\n",
            "\u001b[2K   \u001b[90m━━━━━━━━━━━━━━━━━━━━━━━━━━━━━━━━━━━━━━━━\u001b[0m \u001b[32m64.2/64.2 kB\u001b[0m \u001b[31m1.1 MB/s\u001b[0m eta \u001b[36m0:00:00\u001b[0m\n",
            "\u001b[?25hInstalling collected packages: torch, torchvision, torchtext, torchaudio\n",
            "  Attempting uninstall: torch\n",
            "    Found existing installation: torch 2.4.0+cu121\n",
            "    Uninstalling torch-2.4.0+cu121:\n",
            "      Successfully uninstalled torch-2.4.0+cu121\n",
            "  Attempting uninstall: torchvision\n",
            "    Found existing installation: torchvision 0.19.0+cu121\n",
            "    Uninstalling torchvision-0.19.0+cu121:\n",
            "      Successfully uninstalled torchvision-0.19.0+cu121\n",
            "  Attempting uninstall: torchaudio\n",
            "    Found existing installation: torchaudio 2.4.0+cu121\n",
            "    Uninstalling torchaudio-2.4.0+cu121:\n",
            "      Successfully uninstalled torchaudio-2.4.0+cu121\n",
            "Successfully installed torch-1.11.0+cu113 torchaudio-0.11.0+cu113 torchtext-0.6.0 torchvision-0.12.0+cu113\n"
          ]
        }
      ],
      "source": [
        "# # # Colab에 Mecab 설치\n",
        "# !git clone https://github.com/SOMJANG/Mecab-ko-for-Google-Colab.git\n",
        "# %cd Mecab-ko-for-Google-Colab\n",
        "# !bash install_mecab-ko_on_colab190912.sh\n",
        "!pip install torch==1.11.0+cu113 torchvision==0.12.0+cu113 torchaudio==0.11.0+cu113 torchtext==0.6.0 -f https://download.pytorch.org/whl/torch_stable.html"
      ]
    },
    {
      "cell_type": "code",
      "execution_count": null,
      "metadata": {
        "id": "QYHdHixu27WZ"
      },
      "outputs": [],
      "source": [
        "import re\n",
        "import sys\n",
        "import random\n",
        "\n",
        "import torch\n",
        "import torch.nn as nn\n",
        "import torch.nn.functional as F\n",
        "\n",
        "from torchtext import data, datasets"
      ]
    },
    {
      "cell_type": "markdown",
      "metadata": {
        "id": "zdZUVgaR7KUN"
      },
      "source": [
        "## 데이터 다운로드"
      ]
    },
    {
      "cell_type": "code",
      "execution_count": null,
      "metadata": {
        "colab": {
          "base_uri": "https://localhost:8080/"
        },
        "id": "A_bDM0MEdcdB",
        "outputId": "d8a9a5de-c978-4d8d-cac1-63295b729f4d"
      },
      "outputs": [
        {
          "output_type": "stream",
          "name": "stdout",
          "text": [
            "downloading aclImdb_v1.tar.gz\n"
          ]
        },
        {
          "output_type": "stream",
          "name": "stderr",
          "text": [
            "aclImdb_v1.tar.gz: 100%|██████████| 84.1M/84.1M [00:08<00:00, 10.1MB/s]\n"
          ]
        }
      ],
      "source": [
        "# tokenize = Mecab()\n",
        "# Data Setting\n",
        "TEXT = data.Field(batch_first = True,\n",
        "                  fix_length = 500,\n",
        "                  tokenize = str.split,  # tokenize = Mecab()로 한국어 사용 가능\n",
        "                  pad_token = '<pad>',\n",
        "                  unk_token = '<unk>',\n",
        "                  pad_first = True)\n",
        "\n",
        "LABEL = data.LabelField(dtype=torch.float)\n",
        "\n",
        "train_data, test_data = datasets.IMDB.splits(text_field = TEXT, label_field = LABEL)"
      ]
    },
    {
      "cell_type": "markdown",
      "metadata": {
        "id": "Z0v7RVKQtcSj"
      },
      "source": [
        "- sequential : 시퀀스 데이터 여부. (True가 기본값)\n",
        "- use_vocab : 단어 집합을 만들 것인지 여부. (True가 기본값)\n",
        "- tokenize : 어떤 토큰화 함수를 사용할 것인지 지정. (string.split이 기본값)\n",
        "- lower : 영어 데이터를 전부 소문자화한다. (False가 기본값)\n",
        "- batch_first : 미니 배치 차원을 맨 앞으로 하여 데이터를 불러올 것인지 여부. (False가 기본값)\n",
        "- is_target : 레이블 데이터 여부. (False가 기본값)\n",
        "- fix_length : 최대 허용 길이. 이 길이에 맞춰서 패딩 작업(Padding)이 진행된다."
      ]
    },
    {
      "cell_type": "code",
      "execution_count": null,
      "metadata": {
        "colab": {
          "base_uri": "https://localhost:8080/"
        },
        "id": "2-4Bvpzg55Iz",
        "outputId": "4354f420-f564-4f9d-a97b-0e526b58e0b8"
      },
      "outputs": [
        {
          "output_type": "stream",
          "name": "stdout",
          "text": [
            "train_data의 구성 요소 출력 :  {'text': <torchtext.data.field.Field object at 0x7bb094085300>, 'label': <torchtext.data.field.LabelField object at 0x7bb094086110>}\n"
          ]
        }
      ],
      "source": [
        "print('train_data의 구성 요소 출력 : ', train_data.fields)"
      ]
    },
    {
      "cell_type": "code",
      "execution_count": null,
      "metadata": {
        "colab": {
          "base_uri": "https://localhost:8080/"
        },
        "id": "A8FgEmTH29Wd",
        "outputId": "8651dc28-d447-4fc6-b8bf-4212db77cba8"
      },
      "outputs": [
        {
          "output_type": "stream",
          "name": "stdout",
          "text": [
            "Train Data Length : 25000\n",
            "Test Data Length : 25000\n"
          ]
        }
      ],
      "source": [
        "# Data Length\n",
        "print(f'Train Data Length : {len(train_data.examples)}')\n",
        "print(f'Test Data Length : {len(test_data.examples)}')"
      ]
    },
    {
      "cell_type": "code",
      "execution_count": null,
      "metadata": {
        "colab": {
          "base_uri": "https://localhost:8080/"
        },
        "id": "0QqPpaH5q4qD",
        "outputId": "65c6f4cb-baf8-458b-f137-8677950fddbe"
      },
      "outputs": [
        {
          "name": "stdout",
          "output_type": "stream",
          "text": [
            "{'text': ['As', 'someone', 'who', 'has', 'seen', 'and', 'followed', \"Hartley's\", 'public', 'work', 'for', 'several', 'years', 'I', 'think', 'much', 'of', 'what', 'used', 'to', 'be', 'fiction', 'told', 'through', 'true', 'stories', 'has', 'been', 'elevated', 'into', 'obscure', 'philosophical', 'mind', 'games.<br', '/><br', '/>While', 'entertaining,', 'Fay', 'Grim', 'is', 'another', 'step', 'in', 'the', 'Henry', 'Fool', 'line', 'of', 'thinking,', 'where', 'the', 'movie', 'reflects', 'the', 'quality', 'of', 'an', 'object', 'within', 'the', 'movie', 'itself.', 'In', 'Henry', 'Fool,', 'the', 'object', 'is', 'the', 'memoirs...', 'In', 'Fay', 'Grim,', 'the', 'object', 'is', 'encrypted', 'memoirs', '-', 'which', 'are', 'themselves', 'stolen,', 'forged', 'and', 'trans-mutated', 'into', 'something', 'so', 'obscure', 'it', \"can't\", 'really', 'make', 'any', 'sense', '-', 'i.e.', 'the', 'process', 'of', 'script', 'writing', 'and', 'film-making', 'in', 'the', 'modern', 'era', '-', 'where', 'most', 'blockbuster', 'films', 'are', 'little', 'more', 'than', 'a', 'mash-up', 'of', 'the', 'past.', 'That', 'is,', 'in', 'a', 'philosophical', 'sense,', 'what', 'Fay', 'Grim', 'is', 'all', 'about.', 'The', 'object,', 'perhaps,', 'is', 'the', 'tragedy', 'that', 'shock', 'is', 'now', 'cliché', 'and', 'dull', '(as', 'hinted', 'in', 'the', 'opening', 'scenes', 'at', 'the', 'publishers', 'office).<br', '/><br', '/>That', 'being', 'said,', 'many', 'of', 'the', 'movie', 'best', 'points', 'are', 'lost', 'if', 'you', 'do', 'not', 'understand', \"Henry's\", 'character', 'and', 'the', 'significance', 'of', 'the', 'memoirs', 'being', 'looked', 'for.', 'Henry', 'is', 'a', 'thinly', 'veiled', 'devil,', 'first', 'visiting', 'Simon', 'as', 'a', 'modern', 'Faust,', 'etc.', 'Without', 'understanding', 'how', 'tragic', \"Henry's\", 'character', 'is,', 'much', 'of', 'the', 'quality', 'of', 'Fay', \"Grim's\", 'plot', 'and', 'story', 'is', 'lost.<br', '/><br', '/>And', 'there', 'is', 'not', 'enough', \"'detail'\", 'expressed', 'through', 'verbal', 'flashbacks', '-', 'knowing', 'the', 'plot', 'of', 'Henry', 'Fool', 'cannot', 'compare', 'to', \"'feeling'\", 'the', 'quality', 'of', 'the', 'characters', 'as', 'one', 'did', 'in', 'Henry', 'Fool,', 'and', 'so', 'I', 'think', 'for', 'someone', 'who', 'walks', 'into', 'this', 'movie', 'cold', 'there', 'is', 'about', '10', 'minutes', 'of', \"'so\", \"what'\", 'responses', 'to', 'highly', 'constructed', 'dialog', 'and', 'then', \"that's\", 'it.<br', '/><br', '/>However,', 'Henry', 'Fool', 'was', 'also', 'my', 'least', 'favorite', 'Hartley', 'film', 'until', 'I', 'realized', 'that', 'it', 'was', 'bad', '-', 'putrid', 'and', 'infested', '-', 'precisely', 'because', 'Henry', \"Fool's\", 'confessions', 'were', 'bad...', 'not', 'just', 'raunchy', 'or', 'dirty,', 'but', 'inescapably', 'broken.', 'Henry', 'can', 'not', 'even', 'be', 'a', 'proper', 'villain', '-', 'and', 'this', 'is', 'perhaps', 'the', 'tragic', 'flaw', 'that', 'makes', 'him', 'most', 'endearing...', 'like', 'Gollum', 'in', \"Tolkien's\", 'works,', 'Henry', 'is', 'pitiable.<br', '/><br', '/>That', \"doesn't\", 'come', 'across', 'in', 'Fay', 'Grim,', 'although', \"Henry's\", 'dialog', 'is', 'excellent.', 'What', 'does', 'come', 'across', 'is', 'that', 'the', 'entire', 'movie', 'is', 'constructed', 'as', 'an', 'encryption', '-', 'a', 'sort', 'of', 'molding', 'of', 'another', 'plot', 'around', 'what', 'ends', 'up', 'being', 'yet', 'another', 'bad', 'story', 'to', 'add', 'to', \"henry's\", 'confessions.', 'It', 'is', 'an', 'interesting', 'twist,', 'but', 'one', 'that', \"can't\", 'really', 'be', 'digested', 'without', 'viewing', 'the', 'first', 'film.', 'Perhaps', 'showing', 'more', 'of', 'Henry', 'earlier', 'on', 'would', 'have', 'been', 'better', 'than', 'having', 'the', 'publisher', 'describe', 'the', 'basic', 'storyline', 'of', 'the', 'first', 'movie', '-', 'although', 'this', 'plot', 'is', 'also', 'not', 'really', 'what', 'the', 'first', 'movie', 'was', 'about', '-', 'unless', 'perhaps', 'one', 'is', 'a', 'casual', 'observer.<br', '/><br', '/>Part', 'of', 'the', 'encryption?', 'Hard', 'to', 'say...', 'a', 'little', 'disappointed', 'at', 'the', 'sex', 'gimmicks', 'though.', 'Cheesy.'], 'label': 'pos'}\n"
          ]
        }
      ],
      "source": [
        "print(vars(train_data[0]))"
      ]
    },
    {
      "cell_type": "code",
      "execution_count": null,
      "metadata": {
        "colab": {
          "base_uri": "https://localhost:8080/"
        },
        "id": "ef4OHTAWrIC3",
        "outputId": "98737fdb-9ef0-472a-9381-e30ac639001b"
      },
      "outputs": [
        {
          "output_type": "stream",
          "name": "stdout",
          "text": [
            "{'__module__': '__main__', 'snack': 1000, 'ice_cream': 700, 'coke': 1200, 'candy': 1500, '__dict__': <attribute '__dict__' of 'SellList' objects>, '__weakref__': <attribute '__weakref__' of 'SellList' objects>, '__doc__': None}\n"
          ]
        }
      ],
      "source": [
        "'''python의 기본 내장함수로서 모듈, 클래스,\n",
        "클래스 인스턴스 객체(__dict__속성을 가지는 객체)에\n",
        "대해 __dict__ (dictionary 형태)로 return해 주는 함수임.'''\n",
        "class SellList:\n",
        "    snack = 1000\n",
        "    ice_cream = 700\n",
        "    coke = 1200\n",
        "    candy = 1500\n",
        "\n",
        "print(vars(SellList))"
      ]
    },
    {
      "cell_type": "code",
      "execution_count": null,
      "metadata": {
        "colab": {
          "base_uri": "https://localhost:8080/"
        },
        "id": "1Q9mOX7X5ZHo",
        "outputId": "c3cd4a67-35d6-404b-dba4-f1dbb6c698ac"
      },
      "outputs": [
        {
          "output_type": "stream",
          "name": "stdout",
          "text": [
            "---- Data Sample ----\n",
            "Input : \n",
            "This is an almost action-less film following Jack, an insomniac, as he goes through hallucinations, is visited by dead friends, throws himself off a building, and, for a lot of the time, can't tell reality from hallucination.<br /><br />Dominic Monaghan, as Jack, is truly believable. Confused, and scared but lethargic and, at times blankly accepting of what he sees, we follow him trying to sort out what he's seeing and find a way to sleep.<br /><br />Introduce a talking dog (another hallucination) and children that suddenly appear in Jack's bathroom and bedroom without any explanation as to how they got there (more hallucination) and you have an interesting, mind boggling, 43 minutes And the shower scene is enough to get any Dom fan coming back for more. \n",
            "\n",
            "Label : \n",
            "pos\n"
          ]
        }
      ],
      "source": [
        "# Data Sample\n",
        "print('---- Data Sample ----')\n",
        "print('Input : ')\n",
        "print(' '.join(vars(train_data.examples[1])['text']),'\\n')\n",
        "# vars(): 사용된 클래스의 객체에 대한 dictionary 를 반환한다.\n",
        "print('Label : ')\n",
        "print(vars(train_data.examples[1])['label'])"
      ]
    },
    {
      "cell_type": "markdown",
      "metadata": {
        "id": "AdbRhIAM7Oks"
      },
      "source": [
        "## 자연어 전처리"
      ]
    },
    {
      "cell_type": "code",
      "execution_count": null,
      "metadata": {
        "id": "CLmA8nIm5bwC"
      },
      "outputs": [],
      "source": [
        "def PreProcessingText(input_sentence):\n",
        "    input_sentence = input_sentence.lower() # 소문자화\n",
        "    input_sentence = re.sub('<[^>]*>', repl= ' ', string = input_sentence)\n",
        "    # \"<br />\" 처리\n",
        "    input_sentence = re.sub('[^a-z ]', repl= ' ', string = input_sentence)\n",
        "    # 특수문자 처리 (\"'\" 제외)\n",
        "    input_sentence = re.sub('\\s+', repl= ' ', string = input_sentence)\n",
        "    # 연속된 띄어쓰기 처리\n",
        "    if input_sentence:\n",
        "        return input_sentence"
      ]
    },
    {
      "cell_type": "code",
      "execution_count": null,
      "metadata": {
        "id": "TDy87quz5eCS"
      },
      "outputs": [],
      "source": [
        "for example in train_data.examples:\n",
        "    vars(example)['text'] = PreProcessingText(' '.join(vars(example)['text'])).split()\n",
        "for example in test_data.examples:\n",
        "    vars(example)['text'] = PreProcessingText(' '.join(vars(example)['text'])).split()"
      ]
    },
    {
      "cell_type": "code",
      "execution_count": null,
      "metadata": {
        "colab": {
          "base_uri": "https://localhost:8080/"
        },
        "id": "4jNeLV7K8a38",
        "outputId": "7e17ce65-add9-4b7e-cc47-1772fddda140"
      },
      "outputs": [
        {
          "output_type": "stream",
          "name": "stdout",
          "text": [
            "{'text': ['this', 'is', 'an', 'almost', 'action', 'less', 'film', 'following', 'jack', 'an', 'insomniac', 'as', 'he', 'goes', 'through', 'hallucinations', 'is', 'visited', 'by', 'dead', 'friends', 'throws', 'himself', 'off', 'a', 'building', 'and', 'for', 'a', 'lot', 'of', 'the', 'time', 'can', 't', 'tell', 'reality', 'from', 'hallucination', 'dominic', 'monaghan', 'as', 'jack', 'is', 'truly', 'believable', 'confused', 'and', 'scared', 'but', 'lethargic', 'and', 'at', 'times', 'blankly', 'accepting', 'of', 'what', 'he', 'sees', 'we', 'follow', 'him', 'trying', 'to', 'sort', 'out', 'what', 'he', 's', 'seeing', 'and', 'find', 'a', 'way', 'to', 'sleep', 'introduce', 'a', 'talking', 'dog', 'another', 'hallucination', 'and', 'children', 'that', 'suddenly', 'appear', 'in', 'jack', 's', 'bathroom', 'and', 'bedroom', 'without', 'any', 'explanation', 'as', 'to', 'how', 'they', 'got', 'there', 'more', 'hallucination', 'and', 'you', 'have', 'an', 'interesting', 'mind', 'boggling', 'minutes', 'and', 'the', 'shower', 'scene', 'is', 'enough', 'to', 'get', 'any', 'dom', 'fan', 'coming', 'back', 'for', 'more'], 'label': 'pos'}\n"
          ]
        }
      ],
      "source": [
        "print(vars(train_data[1]))"
      ]
    },
    {
      "cell_type": "markdown",
      "metadata": {
        "id": "4cLdFjN_7oNV"
      },
      "source": [
        "##  단어 집합 만들기"
      ]
    },
    {
      "cell_type": "code",
      "execution_count": null,
      "metadata": {
        "colab": {
          "base_uri": "https://localhost:8080/"
        },
        "id": "eZIGdXdw7ANo",
        "outputId": "9cb118ce-ab8e-4297-b530-a2d3b0536d25"
      },
      "outputs": [
        {
          "output_type": "execute_result",
          "data": {
            "text/plain": [
              "46333"
            ]
          },
          "metadata": {},
          "execution_count": 11
        }
      ],
      "source": [
        "# no pre-trained\n",
        "TEXT.build_vocab(train_data,\n",
        "                 min_freq = 2, # min_freq는 학습 데이터에서 최소 2번 이상 등장한 단어만을 단어 집합에 추가하겠다는 의미\n",
        "                 max_size = None)\n",
        "\n",
        "LABEL.build_vocab(train_data)\n",
        "vocab_size = len(TEXT.vocab)\n",
        "vocab_size"
      ]
    },
    {
      "cell_type": "code",
      "execution_count": null,
      "metadata": {
        "colab": {
          "base_uri": "https://localhost:8080/"
        },
        "id": "9PFoxeMW8Aik",
        "outputId": "bbad9973-5650-411d-a8d7-5f3580b5fdc9"
      },
      "outputs": [
        {
          "name": "stdout",
          "output_type": "stream",
          "text": [
            "Vocab Size : 46333\n",
            "Vocab Examples : \n",
            "\t <unk> 0\n",
            "\t <pad> 1\n",
            "\t the 2\n",
            "\t and 3\n",
            "\t a 4\n",
            "\t of 5\n",
            "\t to 6\n",
            "\t is 7\n",
            "\t it 8\n",
            "\t in 9\n",
            "---------------------------------\n",
            "Label Size : 2\n",
            "Lable Examples : \n",
            "\t neg 0\n",
            "\t pos 1\n"
          ]
        }
      ],
      "source": [
        "# Vocabulary Info\n",
        "print(f'Vocab Size : {vocab_size}')\n",
        "print('Vocab Examples : ')\n",
        "for idx, (k, v) in enumerate(TEXT.vocab.stoi.items()):\n",
        "    # stoi로 단어와 각 단어의 정수 인덱스가 저장되어져 있는 딕셔너리 객체에 접근\n",
        "    if idx >= 10:\n",
        "        break\n",
        "    print('\\t', k, v)\n",
        "print('---------------------------------')\n",
        "# Label Info\n",
        "print(f'Label Size : {len(LABEL.vocab)}')\n",
        "print('Lable Examples : ')\n",
        "for idx, (k, v) in enumerate(LABEL.vocab.stoi.items()):\n",
        "    print('\\t', k, v)"
      ]
    },
    {
      "cell_type": "markdown",
      "metadata": {
        "id": "WB6kExKY9C5U"
      },
      "source": [
        "## 데이터 로더 만들기"
      ]
    },
    {
      "cell_type": "code",
      "execution_count": null,
      "metadata": {
        "colab": {
          "base_uri": "https://localhost:8080/",
          "height": 186
        },
        "id": "7LmZgfw4z6v7",
        "outputId": "4e64e650-e3fd-467a-e6fb-4b4cfd816f3d"
      },
      "outputs": [
        {
          "data": {
            "text/html": [
              "<div style=\"max-width:800px; border: 1px solid var(--colab-border-color);\"><style>\n",
              "      pre.function-repr-contents {\n",
              "        overflow-x: auto;\n",
              "        padding: 8px 12px;\n",
              "        max-height: 500px;\n",
              "      }\n",
              "\n",
              "      pre.function-repr-contents.function-repr-contents-collapsed {\n",
              "        cursor: pointer;\n",
              "        max-height: 100px;\n",
              "      }\n",
              "    </style>\n",
              "    <pre style=\"white-space: initial; background:\n",
              "         var(--colab-secondary-surface-color); padding: 8px 12px;\n",
              "         border-bottom: 1px solid var(--colab-border-color);\"><b>torchtext.datasets.imdb.IMDB</b><br/>def __init__(path, text_field, label_field, **kwargs)</pre><pre class=\"function-repr-contents function-repr-contents-collapsed\" style=\"\"><a class=\"filepath\" style=\"display:none\" href=\"#\">/usr/local/lib/python3.10/dist-packages/torchtext/datasets/imdb.py</a>Defines a dataset composed of Examples along with its Fields.\n",
              "\n",
              "Attributes:\n",
              "    sort_key (callable): A key to use for sorting dataset examples for batching\n",
              "        together examples with similar lengths to minimize padding.\n",
              "    examples (list(Example)): The examples in this dataset.\n",
              "    fields (dict[str, Field]): Contains the name of each column or field, together\n",
              "        with the corresponding Field object. Two fields with the same Field object\n",
              "        will have a shared vocabulary.</pre>\n",
              "      <script>\n",
              "      if (google.colab.kernel.accessAllowed && google.colab.files && google.colab.files.view) {\n",
              "        for (const element of document.querySelectorAll('.filepath')) {\n",
              "          element.style.display = 'block'\n",
              "          element.onclick = (event) => {\n",
              "            event.preventDefault();\n",
              "            event.stopPropagation();\n",
              "            google.colab.files.view(element.textContent, 8);\n",
              "          };\n",
              "        }\n",
              "      }\n",
              "      for (const element of document.querySelectorAll('.function-repr-contents')) {\n",
              "        element.onclick = (event) => {\n",
              "          event.preventDefault();\n",
              "          event.stopPropagation();\n",
              "          element.classList.toggle('function-repr-contents-collapsed');\n",
              "        };\n",
              "      }\n",
              "      </script>\n",
              "      </div>"
            ],
            "text/plain": [
              "torchtext.datasets.imdb.IMDB"
            ]
          },
          "execution_count": 15,
          "metadata": {},
          "output_type": "execute_result"
        }
      ],
      "source": [
        "type(train_data)"
      ]
    },
    {
      "cell_type": "code",
      "execution_count": null,
      "metadata": {
        "id": "13o_GGIB89Z3"
      },
      "outputs": [],
      "source": [
        "# Spliting Valid set\n",
        "train_data, valid_data = train_data.split(split_ratio=0.8)"
      ]
    },
    {
      "cell_type": "code",
      "execution_count": null,
      "metadata": {
        "id": "kqphJ_Zx9lLM"
      },
      "outputs": [],
      "source": [
        "batch_size = 32\n",
        "'''토치텍스트는 모든 텍스트를 배치 처리하는 것을 지원하고, 단어를 인덱스 번호로 대체하는 BucketIterator를 제공합니다.\n",
        "BucketIterator는 batch_size, device, shuffle 등의 인자를 받습니다'''\n",
        "device = torch.device('cuda' if torch.cuda.is_available() else 'cpu')\n",
        "train_iterator, valid_iterator, test_iterator = data.BucketIterator.splits(datasets=(train_data,valid_data,\n",
        "                                                                                     test_data),\n",
        "                                                                           batch_size=batch_size,\n",
        "                                                                           device=device)"
      ]
    },
    {
      "cell_type": "code",
      "execution_count": null,
      "metadata": {
        "colab": {
          "base_uri": "https://localhost:8080/"
        },
        "id": "b2KTSuF89rST",
        "outputId": "3579a048-1359-4c75-9e43-c350ee8a1637"
      },
      "outputs": [
        {
          "output_type": "stream",
          "name": "stdout",
          "text": [
            "훈련 데이터의 미니 배치의 개수 : 625\n",
            "테스트 데이터의 미니 배치의 개수 : 782\n",
            "검증 데이터의 미니 배치의 개수 : 157\n"
          ]
        }
      ],
      "source": [
        "print('훈련 데이터의 미니 배치의 개수 : {}'.format(len(train_iterator)))\n",
        "print('테스트 데이터의 미니 배치의 개수 : {}'.format(len(test_iterator)))\n",
        "print('검증 데이터의 미니 배치의 개수 : {}'.format(len(valid_iterator)))"
      ]
    },
    {
      "cell_type": "code",
      "execution_count": null,
      "metadata": {
        "colab": {
          "base_uri": "https://localhost:8080/"
        },
        "id": "B8dcmCxg9yl5",
        "outputId": "8ac0e3d9-a092-4391-863f-393f539fc39a"
      },
      "outputs": [
        {
          "output_type": "stream",
          "name": "stdout",
          "text": [
            "sample_for_check: \n",
            "[torchtext.data.batch.Batch of size 32]\n",
            "\t[.text]:[torch.LongTensor of size 32x500]\n",
            "\t[.label]:[torch.FloatTensor of size 32]\n",
            "TEXT:\n",
            " tensor([[    1,     1,     1,  ...,  2334,   175,   635],\n",
            "        [ 1148,  2660, 42596,  ...,    68,    77,    56],\n",
            "        [    1,     1,     1,  ...,     4,   439,  5251],\n",
            "        ...,\n",
            "        [    1,     1,     1,  ...,   117,   644,     0],\n",
            "        [    1,     1,     1,  ...,    72,   119,  5812],\n",
            "        [    1,     1,     1,  ...,   202,    39,   144]])\n",
            "LABEL:\n",
            " tensor([0., 0., 0., 0., 0., 1., 1., 0., 1., 0., 1., 1., 0., 0., 1., 1., 1., 0.,\n",
            "        0., 0., 1., 1., 0., 0., 0., 1., 0., 0., 0., 1., 1., 0.])\n"
          ]
        }
      ],
      "source": [
        "# Check batch data\n",
        "sample_for_check = next(iter(train_iterator))\n",
        "print(f'sample_for_check: {sample_for_check}')\n",
        "print(f'TEXT:\\n {sample_for_check.text}')\n",
        "print(f'LABEL:\\n {sample_for_check.label}')"
      ]
    },
    {
      "cell_type": "code",
      "execution_count": null,
      "metadata": {
        "id": "y5uxwQoS-G9f"
      },
      "outputs": [],
      "source": [
        "batch_size = 32\n",
        "# 배치 재로드\n",
        "train_iterator, valid_iterator, test_iterator = data.BucketIterator.splits(\n",
        "    datasets=(train_data, valid_data, test_data),\n",
        "    batch_size=batch_size,repeat=False, device=device)"
      ]
    },
    {
      "cell_type": "markdown",
      "metadata": {
        "id": "YoC3BZ3e-zwG"
      },
      "source": [
        "## RNN"
      ]
    },
    {
      "cell_type": "markdown",
      "metadata": {
        "id": "5J4CoHWoCG-r"
      },
      "source": [
        "- input_size: Input의 사이즈에 해당 하는 수를 입력하면 됩니다.\n",
        "- hidden_size: 은닉층의 사이즈에 해당 하는 수를 입력하면 됩니다.\n",
        "- num_layers: RNN의 은닉층 레이어 갯수를 나타냅니다. 기본 값은 1입니다.\n",
        "- nonlinearity: 비선형 활성화 함수를 선택합니다. tanh, relu중 하나를 선택 가능하며, 기본 값은 tanh입니다.\n",
        "- bias: 바이어스 값 활성화 여부를 선택합니다. 기본 값은 True 입니다.\n",
        "- batch_first: True일 시, Output 값의 사이즈는 (batch, seq, feature) 가 됩니다. 기본 값은 False 입니다.\n",
        "- dropout: 드롭아웃 비율을 설정 합니다. 기본 값은 0입니다.\n",
        "- bidirectional: True일 시, 양방향 RNN이 됩니다. 기본 값은 False 입니다."
      ]
    },
    {
      "cell_type": "code",
      "execution_count": null,
      "metadata": {
        "id": "e5cnG_wZ-uIH"
      },
      "outputs": [],
      "source": [
        "class RNN(nn.Module):\n",
        "    def __init__(self, n_layers, hidden_dim, vocab_size, embed_dim, n_classes, dropout_p=0.2):\n",
        "        super().__init__()\n",
        "        self.emb = nn.Embedding(num_embeddings = vocab_size, embedding_dim = embed_dim)\n",
        "        self.RNN = nn.RNN (input_size = embed_dim, hidden_size = hidden_dim,\n",
        "                           num_layers = n_layers, dropout = dropout_p, batch_first = True)\n",
        "        self.drop = nn.Dropout(dropout_p)\n",
        "        self.fc = nn.Linear(hidden_dim, n_classes)\n",
        "\n",
        "    def forward(self, x):\n",
        "        emb = self.emb(x) # emb의 리턴값은 (배치 크기, 시퀀스 길이, 은닉 상태의 크기)\n",
        "        # emb: torch.Size([32, 500, 300])\n",
        "        output, hidden = self.RNN(emb) # RNN의 리턴값은 (배치 크기, 시퀀스 길이, 은닉 상태의 크기)\n",
        "        # output: torch.Size([32, 500, 128])\n",
        "        last_output = output[:,-1,:] # (배치 크기, 은닉 상태의 크기)의 텐서로 크기가 변경됨\n",
        "        # 즉, 마지막 time-step의 은닉 상태만 가져온다.\n",
        "        x = self.fc(self.drop(last_output))\n",
        "        return x"
      ]
    },
    {
      "cell_type": "code",
      "execution_count": null,
      "metadata": {
        "id": "dXpx7a0kEKD-"
      },
      "outputs": [],
      "source": [
        "# device = torch.device('cuda' if torch.cuda.is_available() else 'cpu')\n",
        "loss_fn = nn.BCEWithLogitsLoss().to(device)\n",
        "\n",
        "def binary_accuracy(preds, y):\n",
        "    rounded_preds = torch.round(torch.sigmoid(preds))\n",
        "    correct = (rounded_preds == y).float()\n",
        "    acc = correct.sum()/len(correct)\n",
        "    return acc"
      ]
    },
    {
      "cell_type": "markdown",
      "metadata": {
        "id": "SuyKR7S4Zm4C"
      },
      "source": [
        "### Train"
      ]
    },
    {
      "cell_type": "code",
      "execution_count": null,
      "metadata": {
        "id": "F4G27YlwGAVh"
      },
      "outputs": [],
      "source": [
        "def train(model, iterator, optimizer, loss_fn, idx_epoch, batch_size):\n",
        "    epoch_loss = 0\n",
        "    epoch_acc = 0\n",
        "\n",
        "    model.train()  # 학습모드로 변경\n",
        "    batch_size = batch_size\n",
        "\n",
        "    for idx, batch in enumerate(iterator):\n",
        "        # Initializing\n",
        "        optimizer.zero_grad()\n",
        "        # Forward\n",
        "        predictions = model(batch.text).squeeze()\n",
        "        loss = loss_fn(predictions, batch.label)\n",
        "        acc = binary_accuracy(predictions, batch.label)\n",
        "        sys.stdout.write(\n",
        "                    \"\\r\" + f\"[Train] Epoch : {idx_epoch:^3}\"\\\n",
        "                    f\"[{(idx + 1)*batch_size} / {len(iterator)*batch_size} \\\n",
        "                    ({100.*(idx + 1)/len(iterator):.4}%)]\"\\\n",
        "                    f\"  Loss: {loss.item():.4}\"\\\n",
        "                    f\"  Acc : {acc.item():.4}\")\n",
        "        # Backward\n",
        "        loss.backward()\n",
        "        optimizer.step()\n",
        "        # Update Epoch Performance\n",
        "        epoch_loss += loss.item()\n",
        "        epoch_acc += acc.item()\n",
        "    return epoch_loss/len(iterator) , epoch_acc/len(iterator)"
      ]
    },
    {
      "cell_type": "markdown",
      "metadata": {
        "id": "MWls1hU9Zq19"
      },
      "source": [
        "### evaluate"
      ]
    },
    {
      "cell_type": "code",
      "execution_count": null,
      "metadata": {
        "id": "Uy3zUDFmGB2u"
      },
      "outputs": [],
      "source": [
        "def evaluate(model, iterator, loss_fn):\n",
        "    epoch_loss = 0\n",
        "    epoch_acc = 0\n",
        "\n",
        "    # evaluation mode\n",
        "    model.eval()\n",
        "    with torch.no_grad():\n",
        "        for batch in iterator:\n",
        "            predictions = model(batch.text).squeeze(1)\n",
        "            loss = loss_fn(predictions, batch.label)\n",
        "            acc = binary_accuracy(predictions, batch.label)\n",
        "            epoch_loss += loss.item()\n",
        "            epoch_acc += acc.item()\n",
        "    return epoch_loss / len(iterator), epoch_acc / len(iterator)"
      ]
    },
    {
      "cell_type": "code",
      "execution_count": null,
      "metadata": {
        "colab": {
          "base_uri": "https://localhost:8080/"
        },
        "id": "7qSeWGr3DAcT",
        "outputId": "596ea863-8253-463d-c522-0bc5240efdff"
      },
      "outputs": [
        {
          "output_type": "stream",
          "name": "stderr",
          "text": [
            "/usr/local/lib/python3.10/dist-packages/torch/nn/modules/rnn.py:62: UserWarning: dropout option adds dropout after all but last recurrent layer, so non-zero dropout expects num_layers greater than 1, but got dropout=0.2 and num_layers=1\n",
            "  warnings.warn(\"dropout option adds dropout after all but last \"\n"
          ]
        }
      ],
      "source": [
        "hidden_dim = 128\n",
        "vocab_size = len(TEXT.vocab)\n",
        "embed_dim = 300\n",
        "n_classes = 1\n",
        "n_layers = 1\n",
        "rnn_model = RNN(n_layers, hidden_dim, vocab_size, embed_dim, n_classes).to(device)\n",
        "optimizer = torch.optim.Adam(rnn_model.parameters(), lr=0.001)"
      ]
    },
    {
      "cell_type": "code",
      "execution_count": null,
      "metadata": {
        "id": "a3V-EjjXGVtG"
      },
      "outputs": [],
      "source": [
        "N_EPOCH = 2\n",
        "best_valid_loss = float('inf')\n",
        "\n",
        "for epoch in range(N_EPOCH):\n",
        "    train_loss, train_acc = train(rnn_model, train_iterator, optimizer, loss_fn, epoch, batch_size)\n",
        "    valid_loss, valid_acc = evaluate(rnn_model, valid_iterator, loss_fn)\n",
        "    print('')\n",
        "    if valid_loss < best_valid_loss:\n",
        "        best_valid_loss = valid_loss\n",
        "        torch.save(rnn_model.state_dict(), f'./RNN_best.pth')\n",
        "        print(f'\\t Saved at {epoch}-epoch')\n",
        "\n",
        "    print(f'\\t Epoch : {epoch} | Train Loss : {train_loss:.4} | Train Acc : {train_acc:.4}')\n",
        "    print(f'\\t Epoch : {epoch} | Valid Loss : {valid_loss:.4} | Valid Acc : {valid_acc:.4}')"
      ]
    },
    {
      "cell_type": "markdown",
      "metadata": {
        "id": "wA2785MlMHs9"
      },
      "source": [
        "## LSTM"
      ]
    },
    {
      "cell_type": "code",
      "execution_count": null,
      "metadata": {
        "id": "8M5VU3pAK_Ab"
      },
      "outputs": [],
      "source": [
        "batch_size = 32\n",
        "# 배치 재로드\n",
        "train_iterator, valid_iterator, test_iterator = data.BucketIterator.splits(\n",
        "    datasets=(train_data, valid_data, test_data),\n",
        "    batch_size=batch_size,repeat=False, device=device)"
      ]
    },
    {
      "cell_type": "code",
      "execution_count": null,
      "metadata": {
        "id": "J7M-VXHgMMPo"
      },
      "outputs": [],
      "source": [
        "class LSTM(nn.Module):\n",
        "    def __init__(self,n_layers, hidden_dim, vocab_size, embed_dim, n_classes, dropout_p=0.2):\n",
        "        super().__init__()\n",
        "        self.emb = nn.Embedding(num_embeddings = vocab_size, embedding_dim = embed_dim)\n",
        "        self.LSTM = nn.LSTM(input_size = embed_dim, hidden_size = hidden_dim,\n",
        "                           num_layers = n_layers, dropout = dropout_p,\n",
        "                           batch_first = True)\n",
        "        self.drop = nn.Dropout(dropout_p)\n",
        "        self.fc = nn.Linear(hidden_dim, n_classes)\n",
        "\n",
        "    def forward(self, x):\n",
        "        emb = self.emb(x)\n",
        "        # emb : (Batch_Size, Max_Seq_Length, Emb_dim)\n",
        "        output, hidden = self.LSTM(emb)\n",
        "        last_output = output[:,-1,:]\n",
        "        # (배치 크기, 은닉 상태의 크기)의 텐서로 크기가 변경됨. 즉, 마지막 time-step의 은닉 상태만 가져온다.\n",
        "        x = self.fc(self.drop(last_output))\n",
        "\n",
        "        return x"
      ]
    },
    {
      "cell_type": "code",
      "execution_count": null,
      "metadata": {
        "id": "KCbTav7oMU07"
      },
      "outputs": [],
      "source": [
        "hidden_dim = 128\n",
        "vocab_size = len(TEXT.vocab)\n",
        "embed_dim = 300\n",
        "n_classes = 1\n",
        "n_layers = 1\n",
        "LSTM_model = LSTM(n_layers, hidden_dim, vocab_size, embed_dim, n_classes).to(device)\n",
        "optimizer = torch.optim.Adam(LSTM_model.parameters(), lr=0.001)"
      ]
    },
    {
      "cell_type": "code",
      "execution_count": null,
      "metadata": {
        "colab": {
          "background_save": true,
          "base_uri": "https://localhost:8080/"
        },
        "id": "xIg2KgwbMasZ",
        "outputId": "8725fcf1-6969-4847-d2e0-03d4038fbeda"
      },
      "outputs": [
        {
          "name": "stdout",
          "output_type": "stream",
          "text": [
            "[Train] Epoch :  0 [20000 / 20000                     (100.0%)]  Loss: 0.5536  Acc : 0.625\n",
            "\t Saved at 0-epoch\n",
            "\t Epoch : 0 | Train Loss : 0.5932 | Train Acc : 0.6826\n",
            "\t Epoch : 0 | Valid Loss : 0.5253 | Valid Acc : 0.7544\n",
            "[Train] Epoch :  1 [20000 / 20000                     (100.0%)]  Loss: 0.4136  Acc : 0.75\n",
            "\t Saved at 1-epoch\n",
            "\t Epoch : 1 | Train Loss : 0.4793 | Train Acc : 0.7825\n",
            "\t Epoch : 1 | Valid Loss : 0.4834 | Valid Acc : 0.7759\n"
          ]
        }
      ],
      "source": [
        "N_EPOCH = 2\n",
        "\n",
        "best_valid_loss = float('inf')\n",
        "\n",
        "for epoch in range(N_EPOCH):\n",
        "    train_loss, train_acc = train(LSTM_model, train_iterator, optimizer, loss_fn, epoch, batch_size)\n",
        "    valid_loss, valid_acc = evaluate(LSTM_model, valid_iterator, loss_fn)\n",
        "    print('')\n",
        "    if valid_loss < best_valid_loss:\n",
        "        best_valid_loss = valid_loss\n",
        "        torch.save(LSTM_model.state_dict(), f'./LSTM_best.pt')\n",
        "        print(f'\\t Saved at {epoch}-epoch')\n",
        "\n",
        "    print(f'\\t Epoch : {epoch} | Train Loss : {train_loss:.4} | Train Acc : {train_acc:.4}')\n",
        "    print(f'\\t Epoch : {epoch} | Valid Loss : {valid_loss:.4} | Valid Acc : {valid_acc:.4}')"
      ]
    },
    {
      "cell_type": "markdown",
      "metadata": {
        "id": "753SgSo5NY7V"
      },
      "source": [
        "## GRU\n",
        "![image.png](data:image/png;base64,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)"
      ]
    },
    {
      "cell_type": "code",
      "execution_count": null,
      "metadata": {
        "colab": {
          "background_save": true
        },
        "id": "ffAoOOUwMexb"
      },
      "outputs": [],
      "source": [
        "batch_size = 32\n",
        "# 배치 재로드\n",
        "train_iterator, valid_iterator, test_iterator = data.BucketIterator.splits(\n",
        "    datasets=(train_data, valid_data, test_data),\n",
        "    batch_size=batch_size,repeat=False, device=device)"
      ]
    },
    {
      "cell_type": "code",
      "execution_count": null,
      "metadata": {
        "colab": {
          "background_save": true
        },
        "id": "bRaKu2xhObRg"
      },
      "outputs": [],
      "source": [
        "class GRU(nn.Module):\n",
        "    def __init__(self,n_layers, hidden_dim, vocab_size, embed_dim, n_classes, dropout_p=0.2):\n",
        "        super().__init__()\n",
        "        self.emb = nn.Embedding(num_embeddings = vocab_size, embedding_dim = embed_dim)\n",
        "        self.GRU = nn.GRU(input_size = embed_dim,\n",
        "                           hidden_size = hidden_dim,\n",
        "                           num_layers = n_layers,\n",
        "                           dropout = dropout_p,\n",
        "                           batch_first = True) #\n",
        "        self.drop = nn.Dropout(dropout_p)\n",
        "        self.fc = nn.Linear(hidden_dim, n_classes)\n",
        "\n",
        "    def forward(self, x):\n",
        "        emb = self.emb(x)\n",
        "        # emb : (Batch_Size, Max_Seq_Length, Emb_dim)\n",
        "        output, hidden = self.GRU(emb)\n",
        "        last_output = output[:,-1,:]# (배치 크기, 은닉 상태의 크기)의 텐서로 크기가 변경됨. 즉, 마지막 time-step의 은닉 상태만 가져온다.\n",
        "        x = self.fc(self.drop(last_output))\n",
        "\n",
        "        return x"
      ]
    },
    {
      "cell_type": "code",
      "execution_count": null,
      "metadata": {
        "colab": {
          "background_save": true
        },
        "id": "cupQax0qOfL_"
      },
      "outputs": [],
      "source": [
        "GRU_model = GRU(n_layers, hidden_dim, vocab_size, embed_dim, n_classes).to(device)\n",
        "optimizer = torch.optim.Adam(GRU_model.parameters(), lr=0.001)"
      ]
    },
    {
      "cell_type": "code",
      "execution_count": null,
      "metadata": {
        "colab": {
          "background_save": true,
          "base_uri": "https://localhost:8080/"
        },
        "id": "rXgPllMBOgtN",
        "outputId": "d86ca83e-be6a-4089-9267-13f7230e72d5"
      },
      "outputs": [
        {
          "name": "stdout",
          "output_type": "stream",
          "text": [
            "[Train] Epoch :  0 [20000 / 20000                     (100.0%)]  Loss: 0.5093  Acc : 0.8125\n",
            "\t Saved at 0-epoch\n",
            "\t Epoch : 0 | Train Loss : 0.6142 | Train Acc : 0.6518\n",
            "\t Epoch : 0 | Valid Loss : 0.5276 | Valid Acc : 0.7418\n",
            "[Train] Epoch :  1 [20000 / 20000                     (100.0%)]  Loss: 0.355  Acc : 0.8125\n",
            "\t Saved at 1-epoch\n",
            "\t Epoch : 1 | Train Loss : 0.5082 | Train Acc : 0.7491\n",
            "\t Epoch : 1 | Valid Loss : 0.4641 | Valid Acc : 0.7992\n",
            "[Train] Epoch :  2 [20000 / 20000                     (100.0%)]  Loss: 0.2292  Acc : 0.8438\n",
            "\t Saved at 2-epoch\n",
            "\t Epoch : 2 | Train Loss : 0.2726 | Train Acc : 0.8895\n",
            "\t Epoch : 2 | Valid Loss : 0.3186 | Valid Acc : 0.8756\n",
            "[Train] Epoch :  3 [20000 / 20000                     (100.0%)]  Loss: 0.06232  Acc : 1.0\n",
            "\t Epoch : 3 | Train Loss : 0.1364 | Train Acc : 0.95\n",
            "\t Epoch : 3 | Valid Loss : 0.3789 | Valid Acc : 0.8684\n",
            "[Train] Epoch :  4 [20000 / 20000                     (100.0%)]  Loss: 0.02011  Acc : 1.0\n",
            "\t Epoch : 4 | Train Loss : 0.06029 | Train Acc : 0.98\n",
            "\t Epoch : 4 | Valid Loss : 0.4689 | Valid Acc : 0.8629\n"
          ]
        }
      ],
      "source": [
        "N_EPOCH = 5\n",
        "\n",
        "best_valid_loss = float('inf')\n",
        "\n",
        "for epoch in range(N_EPOCH):\n",
        "    train_loss, train_acc = train(GRU_model, train_iterator, optimizer, loss_fn, epoch, batch_size)\n",
        "    valid_loss, valid_acc = evaluate(GRU_model, valid_iterator, loss_fn)\n",
        "    print('')\n",
        "    if valid_loss < best_valid_loss:\n",
        "        best_valid_loss = valid_loss\n",
        "        torch.save(GRU_model.state_dict(), f'./gru_best.pt')\n",
        "        print(f'\\t Saved at {epoch}-epoch')\n",
        "\n",
        "    print(f'\\t Epoch : {epoch} | Train Loss : {train_loss:.4} | Train Acc : {train_acc:.4}')\n",
        "    print(f'\\t Epoch : {epoch} | Valid Loss : {valid_loss:.4} | Valid Acc : {valid_acc:.4}')"
      ]
    },
    {
      "cell_type": "markdown",
      "metadata": {
        "id": "yoCPvQn1PKZZ"
      },
      "source": [
        "## Bi-LSTM\n",
        "![image.png](data:image/png;base64,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)"
      ]
    },
    {
      "cell_type": "markdown",
      "metadata": {
        "id": "DWaOICc-PbI1"
      },
      "source": [
        "- 그림을 보면 주황색 블록의 forward 정방향 LSTM이 있고 초록색 블록의 backward 역방향 LSTM이 있다.\n",
        "- Forward State만 사용되는 기존의 LSTM에서 Backward까지 같이 사용하여 (Hidden State가 Concat되어 사용된다.)\n",
        "- t-1만 보는게 아니라 t+1로부터도 확인해서 output을 결정해주자는 이론이다. (return_states를 찍어보면 backward, forward의 각각 의 hidden,cell state가 나온다.)\n",
        "- 대부분의 다른 time-forecasting이나, 문자열 학습등에서 일반 lstm보다 bi-lstm을 사용하면 조금 더 좋아진다 라고 한다."
      ]
    },
    {
      "cell_type": "code",
      "execution_count": null,
      "metadata": {
        "colab": {
          "background_save": true
        },
        "id": "WLo6VYaYPyY2"
      },
      "outputs": [],
      "source": [
        "batch_size = 30\n",
        "# 배치 재로드\n",
        "train_iterator, valid_iterator, test_iterator = data.BucketIterator.splits(\n",
        "    datasets=(train_data, valid_data, test_data),\n",
        "    batch_size=batch_size,repeat=False, device=device)"
      ]
    },
    {
      "cell_type": "code",
      "execution_count": null,
      "metadata": {
        "colab": {
          "background_save": true
        },
        "id": "_9xlpFJuPyY3"
      },
      "outputs": [],
      "source": [
        "class bi_LSTM(nn.Module):\n",
        "    def __init__(self,n_layers, hidden_dim, vocab_size, embed_dim, n_classes, dropout_p=0.2):\n",
        "        super().__init__()\n",
        "        self.emb = nn.Embedding(num_embeddings = vocab_size, embedding_dim = embed_dim)\n",
        "        self.LSTM = nn.LSTM (input_size = embed_dim,\n",
        "                           hidden_size = hidden_dim,\n",
        "                           num_layers = n_layers,\n",
        "                           dropout = dropout_p,\n",
        "                           bidirectional = True,\n",
        "                           batch_first = True) #\n",
        "        self.drop = nn.Dropout(dropout_p)\n",
        "        self.fc = nn.Linear(hidden_dim * 2, n_classes)\n",
        "\n",
        "    def forward(self, x):\n",
        "        emb = self.emb(x)\n",
        "        # emb : (Batch_Size, Max_Seq_Length, Emb_dim)\n",
        "        output, hidden = self.LSTM(emb)\n",
        "        last_output = output[:,-1,:]# (배치 크기, 은닉 상태의 크기)의 텐서로 크기가 변경됨. 즉, 마지막 time-step의 은닉 상태만 가져온다.\n",
        "        x = self.fc(self.drop(last_output))\n",
        "\n",
        "        return x"
      ]
    },
    {
      "cell_type": "code",
      "execution_count": null,
      "metadata": {
        "colab": {
          "background_save": true
        },
        "id": "nLrDPqPmPyY3"
      },
      "outputs": [],
      "source": [
        "bi_LSTM_model = bi_LSTM(n_layers, hidden_dim, vocab_size, embed_dim, n_classes).to(device)\n",
        "optimizer = torch.optim.Adam(bi_LSTM_model.parameters(), lr=0.001)"
      ]
    },
    {
      "cell_type": "code",
      "execution_count": null,
      "metadata": {
        "colab": {
          "background_save": true,
          "base_uri": "https://localhost:8080/"
        },
        "id": "5YDXKi0NPyY4",
        "outputId": "01b7ed47-04be-4ade-9f19-f4ed873c2e3a"
      },
      "outputs": [
        {
          "name": "stdout",
          "output_type": "stream",
          "text": [
            "[Train] Epoch :  0 [20010 / 20010                     (100.0%)]  Loss: 0.4661  Acc : 0.8333\n",
            "\t Saved at 0-epoch\n",
            "\t Epoch : 0 | Train Loss : 0.5956 | Train Acc : 0.6728\n",
            "\t Epoch : 0 | Valid Loss : 0.5228 | Valid Acc : 0.7491\n",
            "[Train] Epoch :  1 [20010 / 20010                     (100.0%)]  Loss: 0.3696  Acc : 0.8333\n",
            "\t Epoch : 1 | Train Loss : 0.4745 | Train Acc : 0.7824\n",
            "\t Epoch : 1 | Valid Loss : 0.5356 | Valid Acc : 0.728\n",
            "[Train] Epoch :  2 [5130 / 20010                     (25.64%)]  Loss: 0.5637  Acc : 0.8"
          ]
        }
      ],
      "source": [
        "N_EPOCH = 5\n",
        "\n",
        "best_valid_loss = float('inf')\n",
        "\n",
        "for epoch in range(N_EPOCH):\n",
        "    train_loss, train_acc = train(bi_LSTM_model, train_iterator, optimizer, loss_fn, epoch, batch_size)\n",
        "    valid_loss, valid_acc = evaluate(bi_LSTM_model, valid_iterator, loss_fn)\n",
        "    print('')\n",
        "    if valid_loss < best_valid_loss:\n",
        "        best_valid_loss = valid_loss\n",
        "        torch.save(bi_LSTM_model.state_dict(), f'./bi_LSTM_best.pt')\n",
        "        print(f'\\t Saved at {epoch}-epoch')\n",
        "\n",
        "    print(f'\\t Epoch : {epoch} | Train Loss : {train_loss:.4} | Train Acc : {train_acc:.4}')\n",
        "    print(f'\\t Epoch : {epoch} | Valid Loss : {valid_loss:.4} | Valid Acc : {valid_acc:.4}')"
      ]
    },
    {
      "cell_type": "code",
      "execution_count": null,
      "metadata": {
        "id": "EaGD5VO6Y1aL"
      },
      "outputs": [],
      "source": [
        "aa = [\n",
        "    [[1,2,3],\n",
        "    [1,2,4],\n",
        "     [5,6,7]],\n",
        "\n",
        "    [[4,5,6],\n",
        "    [7,8,9],\n",
        "     [3,6,8]],\n",
        "\n",
        "    [[11,22,33],\n",
        "    [12,32,34],\n",
        "     [12,43,21]]]"
      ]
    },
    {
      "cell_type": "code",
      "execution_count": null,
      "metadata": {
        "colab": {
          "base_uri": "https://localhost:8080/"
        },
        "id": "UqlCLSKAZOty",
        "outputId": "4fa580ae-4a5b-4e80-99a4-aa2eb3b7d62f"
      },
      "outputs": [
        {
          "data": {
            "text/plain": [
              "(3, 3, 3)"
            ]
          },
          "execution_count": 43,
          "metadata": {},
          "output_type": "execute_result"
        }
      ],
      "source": [
        "import numpy as np\n",
        "\n",
        "aa = np.array(aa)\n",
        "aa.shape"
      ]
    },
    {
      "cell_type": "code",
      "execution_count": null,
      "metadata": {
        "colab": {
          "base_uri": "https://localhost:8080/"
        },
        "id": "XE6MB9-HZPho",
        "outputId": "40372908-eb31-4709-cd95-256efaaab427"
      },
      "outputs": [
        {
          "data": {
            "text/plain": [
              "array([[ 5,  6,  7],\n",
              "       [ 3,  6,  8],\n",
              "       [12, 43, 21]])"
            ]
          },
          "execution_count": 44,
          "metadata": {},
          "output_type": "execute_result"
        }
      ],
      "source": [
        "aa[:,-1,:]"
      ]
    },
    {
      "cell_type": "code",
      "execution_count": null,
      "metadata": {
        "id": "DfwtSaH4Zkuf"
      },
      "outputs": [],
      "source": []
    }
  ],
  "metadata": {
    "colab": {
      "provenance": [],
      "include_colab_link": true
    },
    "kernelspec": {
      "display_name": "Python 3",
      "name": "python3"
    },
    "language_info": {
      "name": "python"
    }
  },
  "nbformat": 4,
  "nbformat_minor": 0
}