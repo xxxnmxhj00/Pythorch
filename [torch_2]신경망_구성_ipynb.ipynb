{
  "nbformat": 4,
  "nbformat_minor": 0,
  "metadata": {
    "colab": {
      "provenance": [],
      "authorship_tag": "ABX9TyPZ75Yy+hzTJnia5tzrX8YW",
      "include_colab_link": true
    },
    "kernelspec": {
      "name": "python3",
      "display_name": "Python 3"
    },
    "language_info": {
      "name": "python"
    }
  },
  "cells": [
    {
      "cell_type": "markdown",
      "metadata": {
        "id": "view-in-github",
        "colab_type": "text"
      },
      "source": [
        "<a href=\"https://colab.research.google.com/github/xxxnmxhj00/Pythorch/blob/main/%5Btorch_2%5D%EC%8B%A0%EA%B2%BD%EB%A7%9D_%EA%B5%AC%EC%84%B1_ipynb.ipynb\" target=\"_parent\"><img src=\"https://colab.research.google.com/assets/colab-badge.svg\" alt=\"Open In Colab\"/></a>"
      ]
    },
    {
      "cell_type": "markdown",
      "source": [
        "# Super()로 기반 클래스 초기화"
      ],
      "metadata": {
        "id": "HZ7-Sel3jAWu"
      }
    },
    {
      "cell_type": "code",
      "execution_count": null,
      "metadata": {
        "colab": {
          "base_uri": "https://localhost:8080/",
          "height": 203
        },
        "id": "8D6CQp76i_xu",
        "outputId": "48e49534-e1ee-4b8c-f267-a248ae3d06d9"
      },
      "outputs": [
        {
          "output_type": "stream",
          "name": "stdout",
          "text": [
            "디지털스마트부산아카데미\n"
          ]
        },
        {
          "output_type": "error",
          "ename": "AttributeError",
          "evalue": "'Student' object has no attribute 'hello'",
          "traceback": [
            "\u001b[0;31m---------------------------------------------------------------------------\u001b[0m",
            "\u001b[0;31mAttributeError\u001b[0m                            Traceback (most recent call last)",
            "\u001b[0;32m<ipython-input-2-4f7fbe46299f>\u001b[0m in \u001b[0;36m<cell line: 11>\u001b[0;34m()\u001b[0m\n\u001b[1;32m      9\u001b[0m \u001b[0mdp\u001b[0m \u001b[0;34m=\u001b[0m \u001b[0mStudent\u001b[0m\u001b[0;34m(\u001b[0m\u001b[0;34m)\u001b[0m\u001b[0;34m\u001b[0m\u001b[0;34m\u001b[0m\u001b[0m\n\u001b[1;32m     10\u001b[0m \u001b[0mprint\u001b[0m\u001b[0;34m(\u001b[0m\u001b[0mdp\u001b[0m\u001b[0;34m.\u001b[0m\u001b[0mschool\u001b[0m\u001b[0;34m)\u001b[0m\u001b[0;34m\u001b[0m\u001b[0;34m\u001b[0m\u001b[0m\n\u001b[0;32m---> 11\u001b[0;31m \u001b[0mprint\u001b[0m\u001b[0;34m(\u001b[0m\u001b[0mdp\u001b[0m\u001b[0;34m.\u001b[0m\u001b[0mhello\u001b[0m\u001b[0;34m)\u001b[0m \u001b[0;31m# 부모 클래스의 속성을 출력하려고 하면 에러가 발생\u001b[0m\u001b[0;34m\u001b[0m\u001b[0;34m\u001b[0m\u001b[0m\n\u001b[0m",
            "\u001b[0;31mAttributeError\u001b[0m: 'Student' object has no attribute 'hello'"
          ]
        }
      ],
      "source": [
        "class Person:\n",
        "  def __init__(self):\n",
        "    self.hello = '안녕하세요.'\n",
        "\n",
        "class Student(Person):\n",
        "  def __init__(self):\n",
        "    self.school = '디지털스마트부산아카데미'\n",
        "\n",
        "dp = Student()\n",
        "print(dp.school)\n",
        "print(dp.hello) # 부모 클래스의 속성을 출력하려고 하면 에러가 발생"
      ]
    },
    {
      "cell_type": "code",
      "source": [
        "class Person:\n",
        "  def __init__(self):\n",
        "    self.hello = '안녕하세요.'\n",
        "\n",
        "class Student(Person):\n",
        "  def __init__(self):\n",
        "    super().__init__() # super()로 기반 클래스의 __init__ 메서드를 호출\n",
        "    self.school = '디지털스마트부산아카데미'\n",
        "\n",
        "dp = Student()\n",
        "print(dp.school)\n",
        "print(dp.hello) # 부모 클래스의 속성을 출력하려고 하면 에러가 발생"
      ],
      "metadata": {
        "colab": {
          "base_uri": "https://localhost:8080/"
        },
        "id": "qJBPsvsFjnZ8",
        "outputId": "67a8d16c-c451-425d-9001-de6b790c598d"
      },
      "execution_count": null,
      "outputs": [
        {
          "output_type": "stream",
          "name": "stdout",
          "text": [
            "디지털스마트부산아카데미\n",
            "안녕하세요.\n"
          ]
        }
      ]
    },
    {
      "cell_type": "markdown",
      "source": [
        "## 클래스를 초기화하지 않아도 되는 경우"
      ],
      "metadata": {
        "id": "FOMclJkBkGwB"
      }
    },
    {
      "cell_type": "code",
      "source": [
        "class Person:\n",
        "  def __init__(self): # 함수가 실행됐을때 1번만 실행됨\n",
        "    self.hello = '안녕하세요.'\n",
        "\n",
        "class Student(Person):\n",
        "  pass\n",
        "\n",
        "dp = Student()\n",
        "print(dp.hello)"
      ],
      "metadata": {
        "colab": {
          "base_uri": "https://localhost:8080/"
        },
        "id": "W30gXjlnkDdz",
        "outputId": "cb68ad90-483f-4432-963e-9837715f6660"
      },
      "execution_count": null,
      "outputs": [
        {
          "output_type": "stream",
          "name": "stdout",
          "text": [
            "안녕하세요.\n"
          ]
        }
      ]
    },
    {
      "cell_type": "code",
      "source": [
        "!pip install -U --no-cache-dir gdown --pre\n",
        "print(\"Downloading...\")\n",
        "!gdown --id {\"1NDg2_ccmxkWDu2e_2hsngYI5pzY4qWkW\"} -O reg.csv"
      ],
      "metadata": {
        "colab": {
          "base_uri": "https://localhost:8080/"
        },
        "id": "R9Ds69b4kRCz",
        "outputId": "91fc4d40-f5d9-45ed-b5b8-a4dc4019f3e2"
      },
      "execution_count": null,
      "outputs": [
        {
          "output_type": "stream",
          "name": "stdout",
          "text": [
            "Requirement already satisfied: gdown in /usr/local/lib/python3.10/dist-packages (5.1.0)\n",
            "Collecting gdown\n",
            "  Downloading gdown-5.2.0-py3-none-any.whl.metadata (5.8 kB)\n",
            "Requirement already satisfied: beautifulsoup4 in /usr/local/lib/python3.10/dist-packages (from gdown) (4.12.3)\n",
            "Requirement already satisfied: filelock in /usr/local/lib/python3.10/dist-packages (from gdown) (3.15.4)\n",
            "Requirement already satisfied: requests[socks] in /usr/local/lib/python3.10/dist-packages (from gdown) (2.32.3)\n",
            "Requirement already satisfied: tqdm in /usr/local/lib/python3.10/dist-packages (from gdown) (4.66.5)\n",
            "Requirement already satisfied: soupsieve>1.2 in /usr/local/lib/python3.10/dist-packages (from beautifulsoup4->gdown) (2.6)\n",
            "Requirement already satisfied: charset-normalizer<4,>=2 in /usr/local/lib/python3.10/dist-packages (from requests[socks]->gdown) (3.3.2)\n",
            "Requirement already satisfied: idna<4,>=2.5 in /usr/local/lib/python3.10/dist-packages (from requests[socks]->gdown) (3.7)\n",
            "Requirement already satisfied: urllib3<3,>=1.21.1 in /usr/local/lib/python3.10/dist-packages (from requests[socks]->gdown) (2.0.7)\n",
            "Requirement already satisfied: certifi>=2017.4.17 in /usr/local/lib/python3.10/dist-packages (from requests[socks]->gdown) (2024.7.4)\n",
            "Requirement already satisfied: PySocks!=1.5.7,>=1.5.6 in /usr/local/lib/python3.10/dist-packages (from requests[socks]->gdown) (1.7.1)\n",
            "Downloading gdown-5.2.0-py3-none-any.whl (18 kB)\n",
            "Installing collected packages: gdown\n",
            "  Attempting uninstall: gdown\n",
            "    Found existing installation: gdown 5.1.0\n",
            "    Uninstalling gdown-5.1.0:\n",
            "      Successfully uninstalled gdown-5.1.0\n",
            "Successfully installed gdown-5.2.0\n",
            "Downloading...\n",
            "/usr/local/lib/python3.10/dist-packages/gdown/__main__.py:140: FutureWarning: Option `--id` was deprecated in version 4.3.1 and will be removed in 5.0. You don't need to pass it anymore to use a file ID.\n",
            "  warnings.warn(\n",
            "Downloading...\n",
            "From: https://drive.google.com/uc?id=1NDg2_ccmxkWDu2e_2hsngYI5pzY4qWkW\n",
            "To: /content/reg.csv\n",
            "100% 138k/138k [00:00<00:00, 66.7MB/s]\n"
          ]
        }
      ]
    },
    {
      "cell_type": "markdown",
      "source": [
        "모델 구조 및 가중치 확인"
      ],
      "metadata": {
        "id": "Cyao9sInkyal"
      }
    },
    {
      "cell_type": "code",
      "source": [
        "import torch\n",
        "from torch import nn\n",
        "import torch.nn.functional as F\n",
        "from torchsummary import summary"
      ],
      "metadata": {
        "id": "gu9DAnFCkscK"
      },
      "execution_count": null,
      "outputs": []
    },
    {
      "cell_type": "code",
      "source": [
        "class Regressor(nn.Module):\n",
        "    def __init__(self):\n",
        "        super().__init__()\n",
        "        self.fc1 = nn.Linear(13, 50) # 입력 레이어에서 은닉 레이어1로\n",
        "        self.fc2 = nn.Linear(50, 30) # 은닉 레이어1에서 은닉 레이어2로\n",
        "        self.fc3 = nn.Linear(30, 1) # 은닉 레이어2에서 출력 레이어로\n",
        "        self.dropout = nn.Dropout(0.5)\n",
        "\n",
        "    def forward(self, x):\n",
        "        x = F.relu(self.fc1(x)) # 활성화 함수는 relu를 사용\n",
        "        x = self.dropout(F.relu(self.fc2(x))) # 드롭아웃을 사용\n",
        "        x = F.relu(self.fc3(x)) # 최종 출력 레이어에는 활성화 함수를 사용하지 않음\n",
        "        return x"
      ],
      "metadata": {
        "id": "zhqR-_RFk4XC"
      },
      "execution_count": null,
      "outputs": []
    },
    {
      "cell_type": "code",
      "source": [
        "model = Regressor()\n",
        "print(model)"
      ],
      "metadata": {
        "colab": {
          "base_uri": "https://localhost:8080/"
        },
        "id": "rPpCUBoWmY76",
        "outputId": "04e2fe1b-f282-45f4-eec6-5564de3466ef"
      },
      "execution_count": null,
      "outputs": [
        {
          "output_type": "stream",
          "name": "stdout",
          "text": [
            "Regressor(\n",
            "  (fc1): Linear(in_features=13, out_features=50, bias=True)\n",
            "  (fc2): Linear(in_features=50, out_features=30, bias=True)\n",
            "  (fc3): Linear(in_features=30, out_features=1, bias=True)\n",
            "  (dropout): Dropout(p=0.5, inplace=False)\n",
            ")\n"
          ]
        }
      ]
    },
    {
      "cell_type": "code",
      "source": [
        "for name,param in model.named_parameters():\n",
        "  print(name, param.size())"
      ],
      "metadata": {
        "colab": {
          "base_uri": "https://localhost:8080/"
        },
        "id": "8XxmopTLmagr",
        "outputId": "61d96d5c-3a6c-4546-d664-c118d48bb14f"
      },
      "execution_count": null,
      "outputs": [
        {
          "output_type": "stream",
          "name": "stdout",
          "text": [
            "fc1.weight torch.Size([50, 13])\n",
            "fc1.bias torch.Size([50])\n",
            "fc2.weight torch.Size([30, 50])\n",
            "fc2.bias torch.Size([30])\n",
            "fc3.weight torch.Size([1, 30])\n",
            "fc3.bias torch.Size([1])\n"
          ]
        }
      ]
    },
    {
      "cell_type": "code",
      "source": [
        "print(model.fc1.weight.size(), model.fc1.bias.size())"
      ],
      "metadata": {
        "colab": {
          "base_uri": "https://localhost:8080/"
        },
        "id": "lb2ySOch5-w3",
        "outputId": "5b300a33-9906-43a8-9330-f433570107c5"
      },
      "execution_count": null,
      "outputs": [
        {
          "output_type": "stream",
          "name": "stdout",
          "text": [
            "torch.Size([50, 13]) torch.Size([50])\n"
          ]
        }
      ]
    },
    {
      "cell_type": "code",
      "source": [
        "model.fc1.weight # weight 변수로 가중치 확인 가능"
      ],
      "metadata": {
        "colab": {
          "base_uri": "https://localhost:8080/"
        },
        "id": "9y506bG4m0X7",
        "outputId": "5ff659f7-9cb7-45ab-964e-d0c3fe1e594f"
      },
      "execution_count": null,
      "outputs": [
        {
          "output_type": "execute_result",
          "data": {
            "text/plain": [
              "Parameter containing:\n",
              "tensor([[-0.1407, -0.2483,  0.0132, -0.1652, -0.1195,  0.2227, -0.1518, -0.0428,\n",
              "         -0.1577,  0.1972, -0.0562, -0.0190,  0.1438],\n",
              "        [ 0.1372,  0.0528,  0.1635,  0.1367,  0.1392, -0.1732,  0.0317, -0.1051,\n",
              "          0.0997,  0.2686, -0.1929, -0.0273,  0.2258],\n",
              "        [ 0.0151,  0.0619,  0.2352,  0.1306, -0.0525,  0.0221, -0.1958,  0.2027,\n",
              "          0.2004,  0.1480, -0.1010,  0.1593,  0.0394],\n",
              "        [ 0.1088, -0.2718,  0.0736,  0.0342, -0.0727, -0.1168, -0.1149, -0.0798,\n",
              "         -0.0121, -0.2525,  0.2451,  0.2263,  0.2737],\n",
              "        [-0.2197,  0.0815,  0.1304, -0.0029,  0.1440,  0.1164, -0.2442,  0.0759,\n",
              "          0.2429, -0.1376,  0.0649, -0.0039,  0.2353],\n",
              "        [ 0.2406,  0.1927,  0.1655, -0.1361,  0.2515,  0.0869, -0.0509,  0.0808,\n",
              "         -0.0624, -0.1027,  0.0181,  0.0317, -0.2471],\n",
              "        [-0.1640,  0.1120,  0.1902,  0.2605, -0.1403,  0.1730, -0.0085, -0.1552,\n",
              "          0.0870,  0.1017, -0.0106,  0.2503, -0.0791],\n",
              "        [-0.2163, -0.0011,  0.2440, -0.0709,  0.2732, -0.1857, -0.2053,  0.2310,\n",
              "          0.1390, -0.0742,  0.0960, -0.0071,  0.2170],\n",
              "        [ 0.0382, -0.2745,  0.0891,  0.1837, -0.0580,  0.0312, -0.0086,  0.0987,\n",
              "         -0.2576,  0.1331, -0.0955, -0.1676,  0.0027],\n",
              "        [-0.0769, -0.0401,  0.1723, -0.1431,  0.1270,  0.0998, -0.1964, -0.2383,\n",
              "         -0.0990,  0.1314,  0.0297,  0.1031, -0.0488],\n",
              "        [-0.2443,  0.0836, -0.2718,  0.1481,  0.1141, -0.1198, -0.0524,  0.1431,\n",
              "         -0.2367,  0.2467,  0.0081, -0.2207, -0.0880],\n",
              "        [-0.0271, -0.1791,  0.0678,  0.0999, -0.0515, -0.1694,  0.1771,  0.0553,\n",
              "          0.0020, -0.1102, -0.2011,  0.0694,  0.2708],\n",
              "        [-0.0910, -0.1330, -0.0751, -0.2723, -0.1512, -0.0130,  0.2767,  0.1796,\n",
              "          0.0992, -0.2187,  0.2074,  0.0957,  0.1350],\n",
              "        [ 0.1831, -0.1896,  0.1659,  0.1456, -0.1628, -0.0578, -0.2208,  0.1746,\n",
              "         -0.1546, -0.2690,  0.1996, -0.2608, -0.0206],\n",
              "        [ 0.0206, -0.1421, -0.0157,  0.1596,  0.2282, -0.1333, -0.2698,  0.0035,\n",
              "          0.1034,  0.2402,  0.1608, -0.2352,  0.0955],\n",
              "        [ 0.2454, -0.2735, -0.0513, -0.0158,  0.1021, -0.2559,  0.1654, -0.2677,\n",
              "         -0.0417, -0.0623, -0.2578,  0.0826, -0.0909],\n",
              "        [ 0.1982,  0.1504, -0.0696,  0.1113,  0.0344,  0.0427,  0.1632, -0.0228,\n",
              "          0.2756,  0.0181,  0.1664, -0.1560,  0.2685],\n",
              "        [-0.0664,  0.1941,  0.2748,  0.0291, -0.1432, -0.0395, -0.0119, -0.1803,\n",
              "         -0.1376,  0.1128, -0.1006,  0.1568, -0.2544],\n",
              "        [ 0.2277, -0.2272,  0.1238,  0.1274,  0.2036, -0.1207, -0.2285, -0.0201,\n",
              "          0.1698,  0.0779,  0.1341,  0.0531, -0.1460],\n",
              "        [-0.2257, -0.0110, -0.1514, -0.1444,  0.2646, -0.0049, -0.1635, -0.2099,\n",
              "         -0.0778,  0.0227,  0.2063,  0.2061, -0.2265],\n",
              "        [ 0.2463,  0.2577,  0.1181, -0.2199, -0.1441,  0.2723, -0.1843, -0.2461,\n",
              "         -0.1559,  0.1902, -0.0371, -0.1317,  0.1473],\n",
              "        [-0.2444,  0.0165, -0.2241,  0.0531, -0.1859, -0.0856,  0.1357,  0.1295,\n",
              "         -0.1678, -0.0009,  0.1746, -0.0129, -0.2315],\n",
              "        [ 0.0602,  0.0858,  0.1715, -0.2042,  0.1296, -0.1746, -0.1173,  0.1992,\n",
              "         -0.0517, -0.1903,  0.2359,  0.1176, -0.2636],\n",
              "        [ 0.1704,  0.2183,  0.0354,  0.0456, -0.2708, -0.1492,  0.1758,  0.0400,\n",
              "          0.1727,  0.2270,  0.2498, -0.2148, -0.1625],\n",
              "        [-0.0547,  0.1650, -0.2542,  0.2439,  0.0157,  0.0101,  0.1761, -0.2527,\n",
              "          0.2527,  0.2209, -0.1080, -0.0756,  0.0060],\n",
              "        [-0.1397, -0.2283,  0.0895,  0.2235,  0.1322, -0.2097,  0.1289, -0.2518,\n",
              "         -0.2530, -0.1058, -0.1856, -0.1604, -0.0525],\n",
              "        [-0.0754, -0.0873,  0.0122, -0.0907,  0.2415, -0.0353, -0.2071,  0.0182,\n",
              "          0.1686, -0.1038,  0.0069, -0.2027, -0.0342],\n",
              "        [-0.0831, -0.2619,  0.2259, -0.0198,  0.1504, -0.2064,  0.0330,  0.2674,\n",
              "          0.1883, -0.2305,  0.1025, -0.0323,  0.2443],\n",
              "        [ 0.2485,  0.0581,  0.1452, -0.2132,  0.0684, -0.1977,  0.2410,  0.1870,\n",
              "          0.1856, -0.2308, -0.2418, -0.1867,  0.1225],\n",
              "        [ 0.1077,  0.2384, -0.0090, -0.0124, -0.2658, -0.2193,  0.1613,  0.2356,\n",
              "          0.2450, -0.1151,  0.0157, -0.2276,  0.0942],\n",
              "        [ 0.1714,  0.1501,  0.1525, -0.1573,  0.0013,  0.1415, -0.2106, -0.1934,\n",
              "         -0.0566, -0.2530,  0.1635,  0.2491, -0.0647],\n",
              "        [ 0.2511, -0.1762, -0.0478,  0.0373,  0.0632, -0.0446,  0.0982, -0.2618,\n",
              "         -0.1309,  0.1877,  0.0008,  0.2073,  0.0935],\n",
              "        [-0.1971,  0.0119, -0.0789, -0.2053, -0.2349,  0.0870,  0.0794,  0.2520,\n",
              "          0.0452,  0.0329, -0.1907, -0.0123,  0.2137],\n",
              "        [ 0.2407,  0.0059,  0.1077,  0.1086,  0.0957, -0.0339,  0.1718, -0.1934,\n",
              "         -0.1432,  0.0706, -0.0829,  0.0110, -0.0998],\n",
              "        [-0.2194, -0.0323, -0.1848, -0.2565, -0.1348,  0.1769,  0.2132, -0.0623,\n",
              "         -0.1066, -0.1668,  0.1764, -0.1309,  0.2765],\n",
              "        [-0.1424, -0.2732,  0.0535,  0.0737, -0.1045, -0.1816, -0.1822, -0.2073,\n",
              "         -0.0415,  0.1086,  0.2348,  0.0081,  0.0023],\n",
              "        [-0.0197, -0.1244, -0.2185, -0.2343,  0.0943, -0.1864,  0.1198,  0.1985,\n",
              "          0.2109,  0.1902, -0.1702, -0.0600,  0.2565],\n",
              "        [ 0.1070,  0.2687, -0.0301,  0.1975,  0.0908, -0.1278,  0.0519, -0.2665,\n",
              "          0.1358,  0.0957,  0.1471,  0.1264, -0.1847],\n",
              "        [-0.0631,  0.2078,  0.1522, -0.0350, -0.1766,  0.0833, -0.1284,  0.0377,\n",
              "         -0.2099, -0.2315,  0.2707, -0.1858,  0.2154],\n",
              "        [ 0.2631,  0.0678, -0.1212,  0.2743,  0.0336,  0.0327, -0.0512, -0.1500,\n",
              "         -0.1278, -0.2001, -0.2185, -0.2391,  0.0678],\n",
              "        [ 0.2659,  0.0393,  0.0586,  0.0337,  0.1403, -0.0220,  0.1021,  0.0957,\n",
              "          0.1924, -0.1895, -0.0806,  0.0661,  0.1346],\n",
              "        [ 0.1927,  0.0868, -0.2627,  0.1667,  0.0835, -0.0115,  0.0675, -0.2162,\n",
              "         -0.2528,  0.0144,  0.1391, -0.1701,  0.1259],\n",
              "        [-0.0059,  0.1740,  0.2043,  0.0399,  0.2080,  0.2083,  0.1717, -0.2012,\n",
              "          0.2153,  0.1182, -0.0271,  0.2607, -0.1578],\n",
              "        [ 0.1865,  0.1720, -0.0057,  0.0734,  0.0844,  0.1717, -0.1814,  0.0311,\n",
              "          0.0214,  0.2442, -0.1594, -0.0712,  0.2684],\n",
              "        [-0.1849,  0.0284,  0.2041, -0.0370, -0.1649, -0.2588,  0.2221,  0.1288,\n",
              "         -0.1108,  0.0563,  0.2301, -0.0815,  0.1857],\n",
              "        [-0.1477,  0.1095, -0.1674, -0.1927,  0.2429,  0.0080,  0.0583, -0.2236,\n",
              "         -0.2289,  0.0621,  0.1703, -0.1223, -0.1233],\n",
              "        [ 0.1611, -0.2607,  0.1763, -0.0289,  0.1109, -0.1539, -0.0869,  0.1263,\n",
              "          0.1522,  0.2469, -0.1024, -0.1860,  0.0892],\n",
              "        [-0.2158, -0.2502, -0.2508,  0.2592, -0.1146, -0.1256,  0.0621,  0.2091,\n",
              "          0.1433,  0.0777, -0.0540,  0.1204, -0.0037],\n",
              "        [ 0.2324, -0.1460, -0.0886,  0.0851, -0.0380,  0.2086, -0.0794, -0.2136,\n",
              "         -0.1769,  0.2588, -0.0354,  0.0073, -0.0098],\n",
              "        [ 0.0927,  0.0278,  0.1808, -0.1905,  0.1803, -0.2206, -0.0344, -0.1588,\n",
              "          0.0354,  0.1383,  0.0021,  0.2144, -0.1143]], requires_grad=True)"
            ]
          },
          "metadata": {},
          "execution_count": 152
        }
      ]
    },
    {
      "cell_type": "markdown",
      "source": [],
      "metadata": {
        "id": "cYPdHQHA4Oee"
      }
    },
    {
      "cell_type": "code",
      "source": [
        "model.fc1.bias # bias 변수로 편향 확인 가능"
      ],
      "metadata": {
        "colab": {
          "base_uri": "https://localhost:8080/"
        },
        "id": "6cQkONDXnd5k",
        "outputId": "fb548f00-bad0-4310-cebd-08a26154ae66"
      },
      "execution_count": null,
      "outputs": [
        {
          "output_type": "execute_result",
          "data": {
            "text/plain": [
              "Parameter containing:\n",
              "tensor([ 0.1751, -0.0773,  0.0254, -0.2061,  0.2480,  0.0916, -0.0439, -0.0198,\n",
              "         0.0426,  0.2693, -0.2582,  0.1095,  0.0976,  0.1864, -0.1835,  0.2529,\n",
              "         0.1208, -0.2553, -0.2202,  0.1633, -0.1760,  0.1868, -0.2211, -0.2114,\n",
              "         0.0166, -0.1314, -0.0530, -0.0828, -0.2531,  0.1431, -0.1802,  0.1672,\n",
              "         0.1751,  0.2595,  0.0585,  0.2444,  0.0307,  0.1184,  0.2028, -0.1204,\n",
              "        -0.2297,  0.1669, -0.1076, -0.0868,  0.1035, -0.0771, -0.0561,  0.0045,\n",
              "         0.2461,  0.2428], requires_grad=True)"
            ]
          },
          "metadata": {},
          "execution_count": 153
        }
      ]
    },
    {
      "cell_type": "code",
      "source": [
        "summary(model, (10,13))\n",
        "# Linear 파라미터 수 = (입력 특성의 수 * 출력 뉴런의 수) + 출력 뉴런의 수(절편)"
      ],
      "metadata": {
        "colab": {
          "base_uri": "https://localhost:8080/"
        },
        "id": "IVhvRmB5nlya",
        "outputId": "e5433406-2d1f-43d9-b692-920189ef9aa6"
      },
      "execution_count": null,
      "outputs": [
        {
          "output_type": "stream",
          "name": "stdout",
          "text": [
            "----------------------------------------------------------------\n",
            "        Layer (type)               Output Shape         Param #\n",
            "================================================================\n",
            "            Linear-1               [-1, 10, 50]             700\n",
            "            Linear-2               [-1, 10, 30]           1,530\n",
            "           Dropout-3               [-1, 10, 30]               0\n",
            "            Linear-4                [-1, 10, 1]              31\n",
            "================================================================\n",
            "Total params: 2,261\n",
            "Trainable params: 2,261\n",
            "Non-trainable params: 0\n",
            "----------------------------------------------------------------\n",
            "Input size (MB): 0.00\n",
            "Forward/backward pass size (MB): 0.01\n",
            "Params size (MB): 0.01\n",
            "Estimated Total Size (MB): 0.02\n",
            "----------------------------------------------------------------\n"
          ]
        }
      ]
    },
    {
      "cell_type": "markdown",
      "source": [
        "## 집값 예측하기"
      ],
      "metadata": {
        "id": "IKEP07lxoEKc"
      }
    },
    {
      "cell_type": "code",
      "source": [
        "import pandas as pd\n",
        "import numpy as np\n",
        "from sklearn.model_selection import train_test_split # 전체 데이터를 학습 데이터와 평가 데이터로 나눈다\n",
        "# ANN\n",
        "\n",
        "import torch\n",
        "from torch import nn, optim # 토치 내의 세부적인 기능을 불러온다 (신경망 기술, 손실함수, 최적화 방법 등)\n",
        "from torch.utils.data import DataLoader, Dataset # 데이터를 모델에 삳용할 수 있도록 정리해 주는 라이브러리\n",
        "import torch.nn.functional as F # torch 내의 세부적인 기능을 불러옴 (신경망 기술)\n",
        "\n",
        "# Loss\n",
        "from sklearn.metrics import mean_squared_error # Regression 문제의 평가를 위해 MSE를 불러옴\n",
        "#Plot\n",
        "import matplotlib.pyplot as plt"
      ],
      "metadata": {
        "id": "JJirZ2ysoC6V"
      },
      "execution_count": null,
      "outputs": []
    },
    {
      "cell_type": "code",
      "source": [
        "df = pd.read_csv('reg.csv', index_col=[0])\n",
        "df.head()"
      ],
      "metadata": {
        "colab": {
          "base_uri": "https://localhost:8080/",
          "height": 226
        },
        "id": "5bM1F0hfn6hm",
        "outputId": "72d31a4b-be59-4c86-e230-0c0189e0e5c8"
      },
      "execution_count": null,
      "outputs": [
        {
          "output_type": "execute_result",
          "data": {
            "text/plain": [
              "         x1        x2        x3        x4        x5        x6        x7  \\\n",
              "0  0.034633  0.206919  0.137057  0.540526  0.193941  0.699239  0.630532   \n",
              "1  0.028920  0.014315  0.276113  0.255945  0.618886  0.555407  0.782263   \n",
              "2  0.020627  0.033230  0.281116  0.525591  0.165269  0.624102  0.586005   \n",
              "3  0.022749  0.033801  0.125044  0.263253  0.251509  0.658532  0.432160   \n",
              "4  0.022148  0.029374  0.121057  0.521126  0.399670  0.448086  0.520158   \n",
              "\n",
              "         x8        x9       x10       x11       x12       x13     Price  \n",
              "0  0.239410  0.027375  0.209857  0.347609  0.996394  0.102644  0.422222  \n",
              "1  0.482977  0.103031  0.106690  0.520776  0.996650  0.187120  0.368889  \n",
              "2  0.272713  0.036010  0.106986  0.595301  0.983284  0.084079  0.660000  \n",
              "3  0.344932  0.150018  0.068317  0.651297  0.989989  0.015990  0.631111  \n",
              "4  0.495342  0.104383  0.069360  0.560116  0.998723  0.092782  0.693333  "
            ],
            "text/html": [
              "\n",
              "  <div id=\"df-cd83bf07-d27c-43a0-a512-510c70c8913c\" class=\"colab-df-container\">\n",
              "    <div>\n",
              "<style scoped>\n",
              "    .dataframe tbody tr th:only-of-type {\n",
              "        vertical-align: middle;\n",
              "    }\n",
              "\n",
              "    .dataframe tbody tr th {\n",
              "        vertical-align: top;\n",
              "    }\n",
              "\n",
              "    .dataframe thead th {\n",
              "        text-align: right;\n",
              "    }\n",
              "</style>\n",
              "<table border=\"1\" class=\"dataframe\">\n",
              "  <thead>\n",
              "    <tr style=\"text-align: right;\">\n",
              "      <th></th>\n",
              "      <th>x1</th>\n",
              "      <th>x2</th>\n",
              "      <th>x3</th>\n",
              "      <th>x4</th>\n",
              "      <th>x5</th>\n",
              "      <th>x6</th>\n",
              "      <th>x7</th>\n",
              "      <th>x8</th>\n",
              "      <th>x9</th>\n",
              "      <th>x10</th>\n",
              "      <th>x11</th>\n",
              "      <th>x12</th>\n",
              "      <th>x13</th>\n",
              "      <th>Price</th>\n",
              "    </tr>\n",
              "  </thead>\n",
              "  <tbody>\n",
              "    <tr>\n",
              "      <th>0</th>\n",
              "      <td>0.034633</td>\n",
              "      <td>0.206919</td>\n",
              "      <td>0.137057</td>\n",
              "      <td>0.540526</td>\n",
              "      <td>0.193941</td>\n",
              "      <td>0.699239</td>\n",
              "      <td>0.630532</td>\n",
              "      <td>0.239410</td>\n",
              "      <td>0.027375</td>\n",
              "      <td>0.209857</td>\n",
              "      <td>0.347609</td>\n",
              "      <td>0.996394</td>\n",
              "      <td>0.102644</td>\n",
              "      <td>0.422222</td>\n",
              "    </tr>\n",
              "    <tr>\n",
              "      <th>1</th>\n",
              "      <td>0.028920</td>\n",
              "      <td>0.014315</td>\n",
              "      <td>0.276113</td>\n",
              "      <td>0.255945</td>\n",
              "      <td>0.618886</td>\n",
              "      <td>0.555407</td>\n",
              "      <td>0.782263</td>\n",
              "      <td>0.482977</td>\n",
              "      <td>0.103031</td>\n",
              "      <td>0.106690</td>\n",
              "      <td>0.520776</td>\n",
              "      <td>0.996650</td>\n",
              "      <td>0.187120</td>\n",
              "      <td>0.368889</td>\n",
              "    </tr>\n",
              "    <tr>\n",
              "      <th>2</th>\n",
              "      <td>0.020627</td>\n",
              "      <td>0.033230</td>\n",
              "      <td>0.281116</td>\n",
              "      <td>0.525591</td>\n",
              "      <td>0.165269</td>\n",
              "      <td>0.624102</td>\n",
              "      <td>0.586005</td>\n",
              "      <td>0.272713</td>\n",
              "      <td>0.036010</td>\n",
              "      <td>0.106986</td>\n",
              "      <td>0.595301</td>\n",
              "      <td>0.983284</td>\n",
              "      <td>0.084079</td>\n",
              "      <td>0.660000</td>\n",
              "    </tr>\n",
              "    <tr>\n",
              "      <th>3</th>\n",
              "      <td>0.022749</td>\n",
              "      <td>0.033801</td>\n",
              "      <td>0.125044</td>\n",
              "      <td>0.263253</td>\n",
              "      <td>0.251509</td>\n",
              "      <td>0.658532</td>\n",
              "      <td>0.432160</td>\n",
              "      <td>0.344932</td>\n",
              "      <td>0.150018</td>\n",
              "      <td>0.068317</td>\n",
              "      <td>0.651297</td>\n",
              "      <td>0.989989</td>\n",
              "      <td>0.015990</td>\n",
              "      <td>0.631111</td>\n",
              "    </tr>\n",
              "    <tr>\n",
              "      <th>4</th>\n",
              "      <td>0.022148</td>\n",
              "      <td>0.029374</td>\n",
              "      <td>0.121057</td>\n",
              "      <td>0.521126</td>\n",
              "      <td>0.399670</td>\n",
              "      <td>0.448086</td>\n",
              "      <td>0.520158</td>\n",
              "      <td>0.495342</td>\n",
              "      <td>0.104383</td>\n",
              "      <td>0.069360</td>\n",
              "      <td>0.560116</td>\n",
              "      <td>0.998723</td>\n",
              "      <td>0.092782</td>\n",
              "      <td>0.693333</td>\n",
              "    </tr>\n",
              "  </tbody>\n",
              "</table>\n",
              "</div>\n",
              "    <div class=\"colab-df-buttons\">\n",
              "\n",
              "  <div class=\"colab-df-container\">\n",
              "    <button class=\"colab-df-convert\" onclick=\"convertToInteractive('df-cd83bf07-d27c-43a0-a512-510c70c8913c')\"\n",
              "            title=\"Convert this dataframe to an interactive table.\"\n",
              "            style=\"display:none;\">\n",
              "\n",
              "  <svg xmlns=\"http://www.w3.org/2000/svg\" height=\"24px\" viewBox=\"0 -960 960 960\">\n",
              "    <path d=\"M120-120v-720h720v720H120Zm60-500h600v-160H180v160Zm220 220h160v-160H400v160Zm0 220h160v-160H400v160ZM180-400h160v-160H180v160Zm440 0h160v-160H620v160ZM180-180h160v-160H180v160Zm440 0h160v-160H620v160Z\"/>\n",
              "  </svg>\n",
              "    </button>\n",
              "\n",
              "  <style>\n",
              "    .colab-df-container {\n",
              "      display:flex;\n",
              "      gap: 12px;\n",
              "    }\n",
              "\n",
              "    .colab-df-convert {\n",
              "      background-color: #E8F0FE;\n",
              "      border: none;\n",
              "      border-radius: 50%;\n",
              "      cursor: pointer;\n",
              "      display: none;\n",
              "      fill: #1967D2;\n",
              "      height: 32px;\n",
              "      padding: 0 0 0 0;\n",
              "      width: 32px;\n",
              "    }\n",
              "\n",
              "    .colab-df-convert:hover {\n",
              "      background-color: #E2EBFA;\n",
              "      box-shadow: 0px 1px 2px rgba(60, 64, 67, 0.3), 0px 1px 3px 1px rgba(60, 64, 67, 0.15);\n",
              "      fill: #174EA6;\n",
              "    }\n",
              "\n",
              "    .colab-df-buttons div {\n",
              "      margin-bottom: 4px;\n",
              "    }\n",
              "\n",
              "    [theme=dark] .colab-df-convert {\n",
              "      background-color: #3B4455;\n",
              "      fill: #D2E3FC;\n",
              "    }\n",
              "\n",
              "    [theme=dark] .colab-df-convert:hover {\n",
              "      background-color: #434B5C;\n",
              "      box-shadow: 0px 1px 3px 1px rgba(0, 0, 0, 0.15);\n",
              "      filter: drop-shadow(0px 1px 2px rgba(0, 0, 0, 0.3));\n",
              "      fill: #FFFFFF;\n",
              "    }\n",
              "  </style>\n",
              "\n",
              "    <script>\n",
              "      const buttonEl =\n",
              "        document.querySelector('#df-cd83bf07-d27c-43a0-a512-510c70c8913c button.colab-df-convert');\n",
              "      buttonEl.style.display =\n",
              "        google.colab.kernel.accessAllowed ? 'block' : 'none';\n",
              "\n",
              "      async function convertToInteractive(key) {\n",
              "        const element = document.querySelector('#df-cd83bf07-d27c-43a0-a512-510c70c8913c');\n",
              "        const dataTable =\n",
              "          await google.colab.kernel.invokeFunction('convertToInteractive',\n",
              "                                                    [key], {});\n",
              "        if (!dataTable) return;\n",
              "\n",
              "        const docLinkHtml = 'Like what you see? Visit the ' +\n",
              "          '<a target=\"_blank\" href=https://colab.research.google.com/notebooks/data_table.ipynb>data table notebook</a>'\n",
              "          + ' to learn more about interactive tables.';\n",
              "        element.innerHTML = '';\n",
              "        dataTable['output_type'] = 'display_data';\n",
              "        await google.colab.output.renderOutput(dataTable, element);\n",
              "        const docLink = document.createElement('div');\n",
              "        docLink.innerHTML = docLinkHtml;\n",
              "        element.appendChild(docLink);\n",
              "      }\n",
              "    </script>\n",
              "  </div>\n",
              "\n",
              "\n",
              "<div id=\"df-c36086f4-bad7-47cb-9e77-2853b410dc0b\">\n",
              "  <button class=\"colab-df-quickchart\" onclick=\"quickchart('df-c36086f4-bad7-47cb-9e77-2853b410dc0b')\"\n",
              "            title=\"Suggest charts\"\n",
              "            style=\"display:none;\">\n",
              "\n",
              "<svg xmlns=\"http://www.w3.org/2000/svg\" height=\"24px\"viewBox=\"0 0 24 24\"\n",
              "     width=\"24px\">\n",
              "    <g>\n",
              "        <path d=\"M19 3H5c-1.1 0-2 .9-2 2v14c0 1.1.9 2 2 2h14c1.1 0 2-.9 2-2V5c0-1.1-.9-2-2-2zM9 17H7v-7h2v7zm4 0h-2V7h2v10zm4 0h-2v-4h2v4z\"/>\n",
              "    </g>\n",
              "</svg>\n",
              "  </button>\n",
              "\n",
              "<style>\n",
              "  .colab-df-quickchart {\n",
              "      --bg-color: #E8F0FE;\n",
              "      --fill-color: #1967D2;\n",
              "      --hover-bg-color: #E2EBFA;\n",
              "      --hover-fill-color: #174EA6;\n",
              "      --disabled-fill-color: #AAA;\n",
              "      --disabled-bg-color: #DDD;\n",
              "  }\n",
              "\n",
              "  [theme=dark] .colab-df-quickchart {\n",
              "      --bg-color: #3B4455;\n",
              "      --fill-color: #D2E3FC;\n",
              "      --hover-bg-color: #434B5C;\n",
              "      --hover-fill-color: #FFFFFF;\n",
              "      --disabled-bg-color: #3B4455;\n",
              "      --disabled-fill-color: #666;\n",
              "  }\n",
              "\n",
              "  .colab-df-quickchart {\n",
              "    background-color: var(--bg-color);\n",
              "    border: none;\n",
              "    border-radius: 50%;\n",
              "    cursor: pointer;\n",
              "    display: none;\n",
              "    fill: var(--fill-color);\n",
              "    height: 32px;\n",
              "    padding: 0;\n",
              "    width: 32px;\n",
              "  }\n",
              "\n",
              "  .colab-df-quickchart:hover {\n",
              "    background-color: var(--hover-bg-color);\n",
              "    box-shadow: 0 1px 2px rgba(60, 64, 67, 0.3), 0 1px 3px 1px rgba(60, 64, 67, 0.15);\n",
              "    fill: var(--button-hover-fill-color);\n",
              "  }\n",
              "\n",
              "  .colab-df-quickchart-complete:disabled,\n",
              "  .colab-df-quickchart-complete:disabled:hover {\n",
              "    background-color: var(--disabled-bg-color);\n",
              "    fill: var(--disabled-fill-color);\n",
              "    box-shadow: none;\n",
              "  }\n",
              "\n",
              "  .colab-df-spinner {\n",
              "    border: 2px solid var(--fill-color);\n",
              "    border-color: transparent;\n",
              "    border-bottom-color: var(--fill-color);\n",
              "    animation:\n",
              "      spin 1s steps(1) infinite;\n",
              "  }\n",
              "\n",
              "  @keyframes spin {\n",
              "    0% {\n",
              "      border-color: transparent;\n",
              "      border-bottom-color: var(--fill-color);\n",
              "      border-left-color: var(--fill-color);\n",
              "    }\n",
              "    20% {\n",
              "      border-color: transparent;\n",
              "      border-left-color: var(--fill-color);\n",
              "      border-top-color: var(--fill-color);\n",
              "    }\n",
              "    30% {\n",
              "      border-color: transparent;\n",
              "      border-left-color: var(--fill-color);\n",
              "      border-top-color: var(--fill-color);\n",
              "      border-right-color: var(--fill-color);\n",
              "    }\n",
              "    40% {\n",
              "      border-color: transparent;\n",
              "      border-right-color: var(--fill-color);\n",
              "      border-top-color: var(--fill-color);\n",
              "    }\n",
              "    60% {\n",
              "      border-color: transparent;\n",
              "      border-right-color: var(--fill-color);\n",
              "    }\n",
              "    80% {\n",
              "      border-color: transparent;\n",
              "      border-right-color: var(--fill-color);\n",
              "      border-bottom-color: var(--fill-color);\n",
              "    }\n",
              "    90% {\n",
              "      border-color: transparent;\n",
              "      border-bottom-color: var(--fill-color);\n",
              "    }\n",
              "  }\n",
              "</style>\n",
              "\n",
              "  <script>\n",
              "    async function quickchart(key) {\n",
              "      const quickchartButtonEl =\n",
              "        document.querySelector('#' + key + ' button');\n",
              "      quickchartButtonEl.disabled = true;  // To prevent multiple clicks.\n",
              "      quickchartButtonEl.classList.add('colab-df-spinner');\n",
              "      try {\n",
              "        const charts = await google.colab.kernel.invokeFunction(\n",
              "            'suggestCharts', [key], {});\n",
              "      } catch (error) {\n",
              "        console.error('Error during call to suggestCharts:', error);\n",
              "      }\n",
              "      quickchartButtonEl.classList.remove('colab-df-spinner');\n",
              "      quickchartButtonEl.classList.add('colab-df-quickchart-complete');\n",
              "    }\n",
              "    (() => {\n",
              "      let quickchartButtonEl =\n",
              "        document.querySelector('#df-c36086f4-bad7-47cb-9e77-2853b410dc0b button');\n",
              "      quickchartButtonEl.style.display =\n",
              "        google.colab.kernel.accessAllowed ? 'block' : 'none';\n",
              "    })();\n",
              "  </script>\n",
              "</div>\n",
              "\n",
              "    </div>\n",
              "  </div>\n"
            ],
            "application/vnd.google.colaboratory.intrinsic+json": {
              "type": "dataframe",
              "variable_name": "df",
              "summary": "{\n  \"name\": \"df\",\n  \"rows\": 506,\n  \"fields\": [\n    {\n      \"column\": \"x1\",\n      \"properties\": {\n        \"dtype\": \"number\",\n        \"std\": 0.0941210218935734,\n        \"min\": 0.0,\n        \"max\": 1.0,\n        \"num_unique_values\": 506,\n        \"samples\": [\n          0.0499190269366402,\n          0.0372793486415663,\n          0.0403476125162454\n        ],\n        \"semantic_type\": \"\",\n        \"description\": \"\"\n      }\n    },\n    {\n      \"column\": \"x2\",\n      \"properties\": {\n        \"dtype\": \"number\",\n        \"std\": 0.22643957887914018,\n        \"min\": 0.0,\n        \"max\": 1.0,\n        \"num_unique_values\": 506,\n        \"samples\": [\n          0.0270797194040528,\n          0.4175304654416022,\n          0.0224929701490326\n        ],\n        \"semantic_type\": \"\",\n        \"description\": \"\"\n      }\n    },\n    {\n      \"column\": \"x3\",\n      \"properties\": {\n        \"dtype\": \"number\",\n        \"std\": 0.23203681609671967,\n        \"min\": 0.0,\n        \"max\": 1.0,\n        \"num_unique_values\": 506,\n        \"samples\": [\n          0.1792486637747934,\n          0.2743955576655295,\n          0.9683967172985736\n        ],\n        \"semantic_type\": \"\",\n        \"description\": \"\"\n      }\n    },\n    {\n      \"column\": \"x4\",\n      \"properties\": {\n        \"dtype\": \"number\",\n        \"std\": 0.18228237399592928,\n        \"min\": 0.0,\n        \"max\": 1.0,\n        \"num_unique_values\": 506,\n        \"samples\": [\n          0.4621324318833278,\n          0.4547574666783817,\n          0.4005254037842979\n        ],\n        \"semantic_type\": \"\",\n        \"description\": \"\"\n      }\n    },\n    {\n      \"column\": \"x5\",\n      \"properties\": {\n        \"dtype\": \"number\",\n        \"std\": 0.167280596810439,\n        \"min\": 0.0,\n        \"max\": 1.0,\n        \"num_unique_values\": 506,\n        \"samples\": [\n          0.5849521360722187,\n          0.5561616663456006,\n          0.7352773683337714\n        ],\n        \"semantic_type\": \"\",\n        \"description\": \"\"\n      }\n    },\n    {\n      \"column\": \"x6\",\n      \"properties\": {\n        \"dtype\": \"number\",\n        \"std\": 0.15092712790755392,\n        \"min\": 0.0,\n        \"max\": 1.0,\n        \"num_unique_values\": 506,\n        \"samples\": [\n          0.4339961234835209,\n          0.4895463226365414,\n          0.572557245767741\n        ],\n        \"semantic_type\": \"\",\n        \"description\": \"\"\n      }\n    },\n    {\n      \"column\": \"x7\",\n      \"properties\": {\n        \"dtype\": \"number\",\n        \"std\": 0.282370793499105,\n        \"min\": 0.0,\n        \"max\": 1.0,\n        \"num_unique_values\": 506,\n        \"samples\": [\n          0.8315909849163077,\n          0.3026895216921868,\n          0.9754998325044808\n        ],\n        \"semantic_type\": \"\",\n        \"description\": \"\"\n      }\n    },\n    {\n      \"column\": \"x8\",\n      \"properties\": {\n        \"dtype\": \"number\",\n        \"std\": 0.18128568925683283,\n        \"min\": 0.0,\n        \"max\": 1.0,\n        \"num_unique_values\": 506,\n        \"samples\": [\n          0.2242822251534877,\n          0.23861541555023,\n          0.1059364335340743\n        ],\n        \"semantic_type\": \"\",\n        \"description\": \"\"\n      }\n    },\n    {\n      \"column\": \"x9\",\n      \"properties\": {\n        \"dtype\": \"number\",\n        \"std\": 0.310675429299826,\n        \"min\": 0.0,\n        \"max\": 1.0,\n        \"num_unique_values\": 506,\n        \"samples\": [\n          0.208196134136252,\n          0.1474939565309038,\n          0.1949015147367152\n        ],\n        \"semantic_type\": \"\",\n        \"description\": \"\"\n      }\n    },\n    {\n      \"column\": \"x10\",\n      \"properties\": {\n        \"dtype\": \"number\",\n        \"std\": 0.31977789284106656,\n        \"min\": 0.0,\n        \"max\": 1.0,\n        \"num_unique_values\": 506,\n        \"samples\": [\n          0.2108191445914082,\n          0.1336018960152109,\n          0.9979329447750253\n        ],\n        \"semantic_type\": \"\",\n        \"description\": \"\"\n      }\n    },\n    {\n      \"column\": \"x11\",\n      \"properties\": {\n        \"dtype\": \"number\",\n        \"std\": 0.19215735143397242,\n        \"min\": 0.0,\n        \"max\": 1.0,\n        \"num_unique_values\": 506,\n        \"samples\": [\n          0.3874211892036543,\n          0.3986546057168885,\n          0.7875594558392439\n        ],\n        \"semantic_type\": \"\",\n        \"description\": \"\"\n      }\n    },\n    {\n      \"column\": \"x12\",\n      \"properties\": {\n        \"dtype\": \"number\",\n        \"std\": 0.22871322563817395,\n        \"min\": 0.0,\n        \"max\": 1.0,\n        \"num_unique_values\": 506,\n        \"samples\": [\n          0.9929641731116344,\n          0.9961454906381132,\n          0.9761807038251704\n        ],\n        \"semantic_type\": \"\",\n        \"description\": \"\"\n      }\n    },\n    {\n      \"column\": \"x13\",\n      \"properties\": {\n        \"dtype\": \"number\",\n        \"std\": 0.20367976634198892,\n        \"min\": 0.0,\n        \"max\": 1.0,\n        \"num_unique_values\": 506,\n        \"samples\": [\n          0.2104941430684204,\n          0.0777346082167225,\n          0.4893547657574851\n        ],\n        \"semantic_type\": \"\",\n        \"description\": \"\"\n      }\n    },\n    {\n      \"column\": \"Price\",\n      \"properties\": {\n        \"dtype\": \"number\",\n        \"std\": 0.2043800908306626,\n        \"min\": 0.0,\n        \"max\": 1.0,\n        \"num_unique_values\": 229,\n        \"samples\": [\n          0.2022222222222222,\n          0.3888888888888889,\n          0.3088888888888889\n        ],\n        \"semantic_type\": \"\",\n        \"description\": \"\"\n      }\n    }\n  ]\n}"
            }
          },
          "metadata": {},
          "execution_count": 171
        }
      ]
    },
    {
      "cell_type": "code",
      "source": [
        "# 데이터를 넘파이 배열로 만들기\n",
        "\n",
        "X = df.drop('Price',axis=1).to_numpy() # 데이터프레임에서 타겟값(Price)을 제외하고 넘파이 배열로 만들기\n",
        "Y = df['Price'].to_numpy().reshape((-1,1))"
      ],
      "metadata": {
        "id": "a4tpLOLZr-7q"
      },
      "execution_count": null,
      "outputs": []
    },
    {
      "cell_type": "markdown",
      "source": [],
      "metadata": {
        "id": "iZdhVLfdABxA"
      }
    },
    {
      "cell_type": "code",
      "source": [
        "print(f'X:{X.shape}, Y:{Y.shape}')"
      ],
      "metadata": {
        "colab": {
          "base_uri": "https://localhost:8080/"
        },
        "id": "jdLxp2Gmspwk",
        "outputId": "429a9178-65ff-4de3-b21e-c97685dc9f84"
      },
      "execution_count": null,
      "outputs": [
        {
          "output_type": "stream",
          "name": "stdout",
          "text": [
            "X:(506, 13), Y:(506, 1)\n"
          ]
        }
      ]
    },
    {
      "cell_type": "code",
      "source": [
        "class TensorData(Dataset):\n",
        "  def __init__(self,x_data, y_data):\n",
        "    self.x_data = torch.FloatTensor(x_data)\n",
        "    self.y_data = torch.FloatTensor(y_data)\n",
        "    self.len = self.y_data.shape[0]\n",
        "\n",
        "  def __getitem__(self,index):\n",
        "    return self.x_data[index], self.y_data[index]\n",
        "\n",
        "  def __len__(self):\n",
        "    return self.len"
      ],
      "metadata": {
        "id": "66vDG1I9tLK9"
      },
      "execution_count": null,
      "outputs": []
    },
    {
      "cell_type": "code",
      "source": [
        "X_train, X_test, Y_train, Y_test = train_test_split(X,Y,test_size=0.5)\n",
        "\n",
        "# 학습 데이터, 시험 데이터 배치 형태로 구축하기\n",
        "trainsets = TensorData(X_train, Y_train)\n",
        "trainloader = torch.utils.data.DataLoader(trainsets,batch_size = 32, shuffle=True)\n",
        "\n",
        "testsets = TensorData(X_train, Y_train)\n",
        "testloader = torch.utils.data.DataLoader(testsets,batch_size = 32, shuffle=False)\n"
      ],
      "metadata": {
        "id": "QrmH4msHsuxB"
      },
      "execution_count": null,
      "outputs": []
    },
    {
      "cell_type": "code",
      "source": [
        "model = Regressor()\n",
        "criterion = nn.MSELoss()\n",
        "#lr은 학습률이다\n",
        "# weight_decay는 L2 정규화에서의 penalty 정도를 의미|\n",
        "optimizer = optim.Adam(model.parameters(), lr=0.001, weight_decay=1e-7)"
      ],
      "metadata": {
        "id": "Do0dSYeuuD5S"
      },
      "execution_count": null,
      "outputs": []
    },
    {
      "cell_type": "code",
      "source": [
        "loss_ = [] # 그래프를 그리기 위한 loss 저장용 리스트\n",
        "n = len(trainloader)\n",
        "\n",
        "for epoch in range(400): # 400번 학습을 진행한다.\n",
        "    running_loss = 0.0\n",
        "    for data in trainloader: # 무작위로 섞인 32개 데이터가 있는 배치가 하나 씩 들어온다.\n",
        "        inputs, values = data # data에는 X, Y가 들어있다.\n",
        "        optimizer.zero_grad() # 최적화 초기화\n",
        "\n",
        "        outputs = model(inputs) # 모델에 입력값 대입 후 예측값 산출\n",
        "        loss = criterion(outputs, values) # 손실 함수 계산\n",
        "        loss.backward() # 손실 함수 기준으로 역전파 설정\n",
        "        optimizer.step() # 역전파를 진행하고 가중치 업데이트\n",
        "\n",
        "        running_loss += loss.item() # epoch 마다 평균 loss를 계산하기 위해 배치 loss를 더한다.\n",
        "    loss_.append(running_loss/n) # MSE(Mean Squared Error) 계산\n",
        "    print(f'[{epoch + 1}] loss: {running_loss / n:.4f}')"
      ],
      "metadata": {
        "colab": {
          "base_uri": "https://localhost:8080/"
        },
        "id": "jVWwQIXTuljc",
        "outputId": "5e71a2e1-0ff8-4482-d003-36d0d176abe4"
      },
      "execution_count": null,
      "outputs": [
        {
          "output_type": "stream",
          "name": "stdout",
          "text": [
            "[1] loss: 0.1270\n",
            "[2] loss: 0.0816\n",
            "[3] loss: 0.0691\n",
            "[4] loss: 0.0586\n",
            "[5] loss: 0.0537\n",
            "[6] loss: 0.0411\n",
            "[7] loss: 0.0454\n",
            "[8] loss: 0.0389\n",
            "[9] loss: 0.0394\n",
            "[10] loss: 0.0391\n",
            "[11] loss: 0.0376\n",
            "[12] loss: 0.0293\n",
            "[13] loss: 0.0301\n",
            "[14] loss: 0.0309\n",
            "[15] loss: 0.0301\n",
            "[16] loss: 0.0280\n",
            "[17] loss: 0.0264\n",
            "[18] loss: 0.0301\n",
            "[19] loss: 0.0257\n",
            "[20] loss: 0.0269\n",
            "[21] loss: 0.0248\n",
            "[22] loss: 0.0275\n",
            "[23] loss: 0.0266\n",
            "[24] loss: 0.0281\n",
            "[25] loss: 0.0231\n",
            "[26] loss: 0.0235\n",
            "[27] loss: 0.0254\n",
            "[28] loss: 0.0225\n",
            "[29] loss: 0.0212\n",
            "[30] loss: 0.0266\n",
            "[31] loss: 0.0229\n",
            "[32] loss: 0.0235\n",
            "[33] loss: 0.0207\n",
            "[34] loss: 0.0203\n",
            "[35] loss: 0.0217\n",
            "[36] loss: 0.0202\n",
            "[37] loss: 0.0208\n",
            "[38] loss: 0.0172\n",
            "[39] loss: 0.0167\n",
            "[40] loss: 0.0207\n",
            "[41] loss: 0.0176\n",
            "[42] loss: 0.0198\n",
            "[43] loss: 0.0184\n",
            "[44] loss: 0.0196\n",
            "[45] loss: 0.0230\n",
            "[46] loss: 0.0184\n",
            "[47] loss: 0.0154\n",
            "[48] loss: 0.0148\n",
            "[49] loss: 0.0161\n",
            "[50] loss: 0.0161\n",
            "[51] loss: 0.0191\n",
            "[52] loss: 0.0161\n",
            "[53] loss: 0.0191\n",
            "[54] loss: 0.0173\n",
            "[55] loss: 0.0162\n",
            "[56] loss: 0.0183\n",
            "[57] loss: 0.0160\n",
            "[58] loss: 0.0149\n",
            "[59] loss: 0.0154\n",
            "[60] loss: 0.0174\n",
            "[61] loss: 0.0151\n",
            "[62] loss: 0.0160\n",
            "[63] loss: 0.0143\n",
            "[64] loss: 0.0174\n",
            "[65] loss: 0.0108\n",
            "[66] loss: 0.0151\n",
            "[67] loss: 0.0134\n",
            "[68] loss: 0.0171\n",
            "[69] loss: 0.0134\n",
            "[70] loss: 0.0135\n",
            "[71] loss: 0.0140\n",
            "[72] loss: 0.0160\n",
            "[73] loss: 0.0131\n",
            "[74] loss: 0.0140\n",
            "[75] loss: 0.0132\n",
            "[76] loss: 0.0155\n",
            "[77] loss: 0.0128\n",
            "[78] loss: 0.0148\n",
            "[79] loss: 0.0136\n",
            "[80] loss: 0.0155\n",
            "[81] loss: 0.0119\n",
            "[82] loss: 0.0122\n",
            "[83] loss: 0.0140\n",
            "[84] loss: 0.0114\n",
            "[85] loss: 0.0127\n",
            "[86] loss: 0.0124\n",
            "[87] loss: 0.0130\n",
            "[88] loss: 0.0112\n",
            "[89] loss: 0.0107\n",
            "[90] loss: 0.0140\n",
            "[91] loss: 0.0126\n",
            "[92] loss: 0.0133\n",
            "[93] loss: 0.0115\n",
            "[94] loss: 0.0131\n",
            "[95] loss: 0.0111\n",
            "[96] loss: 0.0112\n",
            "[97] loss: 0.0114\n",
            "[98] loss: 0.0125\n",
            "[99] loss: 0.0120\n",
            "[100] loss: 0.0106\n",
            "[101] loss: 0.0126\n",
            "[102] loss: 0.0120\n",
            "[103] loss: 0.0129\n",
            "[104] loss: 0.0112\n",
            "[105] loss: 0.0140\n",
            "[106] loss: 0.0108\n",
            "[107] loss: 0.0103\n",
            "[108] loss: 0.0112\n",
            "[109] loss: 0.0133\n",
            "[110] loss: 0.0107\n",
            "[111] loss: 0.0103\n",
            "[112] loss: 0.0098\n",
            "[113] loss: 0.0117\n",
            "[114] loss: 0.0128\n",
            "[115] loss: 0.0101\n",
            "[116] loss: 0.0126\n",
            "[117] loss: 0.0085\n",
            "[118] loss: 0.0116\n",
            "[119] loss: 0.0107\n",
            "[120] loss: 0.0097\n",
            "[121] loss: 0.0104\n",
            "[122] loss: 0.0112\n",
            "[123] loss: 0.0100\n",
            "[124] loss: 0.0117\n",
            "[125] loss: 0.0105\n",
            "[126] loss: 0.0115\n",
            "[127] loss: 0.0109\n",
            "[128] loss: 0.0093\n",
            "[129] loss: 0.0100\n",
            "[130] loss: 0.0103\n",
            "[131] loss: 0.0091\n",
            "[132] loss: 0.0124\n",
            "[133] loss: 0.0102\n",
            "[134] loss: 0.0121\n",
            "[135] loss: 0.0103\n",
            "[136] loss: 0.0100\n",
            "[137] loss: 0.0095\n",
            "[138] loss: 0.0101\n",
            "[139] loss: 0.0096\n",
            "[140] loss: 0.0123\n",
            "[141] loss: 0.0102\n",
            "[142] loss: 0.0092\n",
            "[143] loss: 0.0111\n",
            "[144] loss: 0.0103\n",
            "[145] loss: 0.0081\n",
            "[146] loss: 0.0111\n",
            "[147] loss: 0.0109\n",
            "[148] loss: 0.0110\n",
            "[149] loss: 0.0088\n",
            "[150] loss: 0.0092\n",
            "[151] loss: 0.0095\n",
            "[152] loss: 0.0104\n",
            "[153] loss: 0.0092\n",
            "[154] loss: 0.0110\n",
            "[155] loss: 0.0087\n",
            "[156] loss: 0.0096\n",
            "[157] loss: 0.0099\n",
            "[158] loss: 0.0091\n",
            "[159] loss: 0.0071\n",
            "[160] loss: 0.0099\n",
            "[161] loss: 0.0089\n",
            "[162] loss: 0.0079\n",
            "[163] loss: 0.0102\n",
            "[164] loss: 0.0101\n",
            "[165] loss: 0.0089\n",
            "[166] loss: 0.0080\n",
            "[167] loss: 0.0089\n",
            "[168] loss: 0.0094\n",
            "[169] loss: 0.0096\n",
            "[170] loss: 0.0107\n",
            "[171] loss: 0.0086\n",
            "[172] loss: 0.0113\n",
            "[173] loss: 0.0107\n",
            "[174] loss: 0.0107\n",
            "[175] loss: 0.0080\n",
            "[176] loss: 0.0092\n",
            "[177] loss: 0.0088\n",
            "[178] loss: 0.0083\n",
            "[179] loss: 0.0082\n",
            "[180] loss: 0.0085\n",
            "[181] loss: 0.0098\n",
            "[182] loss: 0.0085\n",
            "[183] loss: 0.0112\n",
            "[184] loss: 0.0100\n",
            "[185] loss: 0.0093\n",
            "[186] loss: 0.0086\n",
            "[187] loss: 0.0114\n",
            "[188] loss: 0.0091\n",
            "[189] loss: 0.0087\n",
            "[190] loss: 0.0073\n",
            "[191] loss: 0.0077\n",
            "[192] loss: 0.0081\n",
            "[193] loss: 0.0091\n",
            "[194] loss: 0.0088\n",
            "[195] loss: 0.0093\n",
            "[196] loss: 0.0082\n",
            "[197] loss: 0.0085\n",
            "[198] loss: 0.0090\n",
            "[199] loss: 0.0086\n",
            "[200] loss: 0.0091\n",
            "[201] loss: 0.0090\n",
            "[202] loss: 0.0084\n",
            "[203] loss: 0.0075\n",
            "[204] loss: 0.0092\n",
            "[205] loss: 0.0078\n",
            "[206] loss: 0.0081\n",
            "[207] loss: 0.0090\n",
            "[208] loss: 0.0090\n",
            "[209] loss: 0.0086\n",
            "[210] loss: 0.0086\n",
            "[211] loss: 0.0084\n",
            "[212] loss: 0.0087\n",
            "[213] loss: 0.0093\n",
            "[214] loss: 0.0095\n",
            "[215] loss: 0.0084\n",
            "[216] loss: 0.0092\n",
            "[217] loss: 0.0093\n",
            "[218] loss: 0.0081\n",
            "[219] loss: 0.0098\n",
            "[220] loss: 0.0098\n",
            "[221] loss: 0.0090\n",
            "[222] loss: 0.0071\n",
            "[223] loss: 0.0077\n",
            "[224] loss: 0.0075\n",
            "[225] loss: 0.0087\n",
            "[226] loss: 0.0077\n",
            "[227] loss: 0.0077\n",
            "[228] loss: 0.0072\n",
            "[229] loss: 0.0077\n",
            "[230] loss: 0.0078\n",
            "[231] loss: 0.0109\n",
            "[232] loss: 0.0064\n",
            "[233] loss: 0.0092\n",
            "[234] loss: 0.0085\n",
            "[235] loss: 0.0081\n",
            "[236] loss: 0.0082\n",
            "[237] loss: 0.0082\n",
            "[238] loss: 0.0069\n",
            "[239] loss: 0.0075\n",
            "[240] loss: 0.0089\n",
            "[241] loss: 0.0080\n",
            "[242] loss: 0.0080\n",
            "[243] loss: 0.0076\n",
            "[244] loss: 0.0085\n",
            "[245] loss: 0.0090\n",
            "[246] loss: 0.0083\n",
            "[247] loss: 0.0081\n",
            "[248] loss: 0.0077\n",
            "[249] loss: 0.0089\n",
            "[250] loss: 0.0075\n",
            "[251] loss: 0.0080\n",
            "[252] loss: 0.0088\n",
            "[253] loss: 0.0082\n",
            "[254] loss: 0.0097\n",
            "[255] loss: 0.0086\n",
            "[256] loss: 0.0086\n",
            "[257] loss: 0.0069\n",
            "[258] loss: 0.0085\n",
            "[259] loss: 0.0075\n",
            "[260] loss: 0.0078\n",
            "[261] loss: 0.0068\n",
            "[262] loss: 0.0091\n",
            "[263] loss: 0.0090\n",
            "[264] loss: 0.0082\n",
            "[265] loss: 0.0078\n",
            "[266] loss: 0.0081\n",
            "[267] loss: 0.0080\n",
            "[268] loss: 0.0086\n",
            "[269] loss: 0.0093\n",
            "[270] loss: 0.0084\n",
            "[271] loss: 0.0075\n",
            "[272] loss: 0.0070\n",
            "[273] loss: 0.0084\n",
            "[274] loss: 0.0080\n",
            "[275] loss: 0.0066\n",
            "[276] loss: 0.0071\n",
            "[277] loss: 0.0065\n",
            "[278] loss: 0.0079\n",
            "[279] loss: 0.0083\n",
            "[280] loss: 0.0061\n",
            "[281] loss: 0.0068\n",
            "[282] loss: 0.0070\n",
            "[283] loss: 0.0060\n",
            "[284] loss: 0.0065\n",
            "[285] loss: 0.0088\n",
            "[286] loss: 0.0074\n",
            "[287] loss: 0.0089\n",
            "[288] loss: 0.0069\n",
            "[289] loss: 0.0067\n",
            "[290] loss: 0.0065\n",
            "[291] loss: 0.0080\n",
            "[292] loss: 0.0070\n",
            "[293] loss: 0.0083\n",
            "[294] loss: 0.0075\n",
            "[295] loss: 0.0078\n",
            "[296] loss: 0.0081\n",
            "[297] loss: 0.0080\n",
            "[298] loss: 0.0086\n",
            "[299] loss: 0.0080\n",
            "[300] loss: 0.0076\n",
            "[301] loss: 0.0081\n",
            "[302] loss: 0.0071\n",
            "[303] loss: 0.0061\n",
            "[304] loss: 0.0060\n",
            "[305] loss: 0.0074\n",
            "[306] loss: 0.0059\n",
            "[307] loss: 0.0077\n",
            "[308] loss: 0.0070\n",
            "[309] loss: 0.0061\n",
            "[310] loss: 0.0067\n",
            "[311] loss: 0.0065\n",
            "[312] loss: 0.0055\n",
            "[313] loss: 0.0069\n",
            "[314] loss: 0.0080\n",
            "[315] loss: 0.0074\n",
            "[316] loss: 0.0083\n",
            "[317] loss: 0.0072\n",
            "[318] loss: 0.0080\n",
            "[319] loss: 0.0076\n",
            "[320] loss: 0.0070\n",
            "[321] loss: 0.0065\n",
            "[322] loss: 0.0071\n",
            "[323] loss: 0.0072\n",
            "[324] loss: 0.0064\n",
            "[325] loss: 0.0075\n",
            "[326] loss: 0.0073\n",
            "[327] loss: 0.0077\n",
            "[328] loss: 0.0075\n",
            "[329] loss: 0.0064\n",
            "[330] loss: 0.0074\n",
            "[331] loss: 0.0064\n",
            "[332] loss: 0.0070\n",
            "[333] loss: 0.0069\n",
            "[334] loss: 0.0073\n",
            "[335] loss: 0.0061\n",
            "[336] loss: 0.0070\n",
            "[337] loss: 0.0063\n",
            "[338] loss: 0.0062\n",
            "[339] loss: 0.0077\n",
            "[340] loss: 0.0080\n",
            "[341] loss: 0.0071\n",
            "[342] loss: 0.0059\n",
            "[343] loss: 0.0047\n",
            "[344] loss: 0.0075\n",
            "[345] loss: 0.0068\n",
            "[346] loss: 0.0073\n",
            "[347] loss: 0.0077\n",
            "[348] loss: 0.0068\n",
            "[349] loss: 0.0080\n",
            "[350] loss: 0.0075\n",
            "[351] loss: 0.0071\n",
            "[352] loss: 0.0080\n",
            "[353] loss: 0.0061\n",
            "[354] loss: 0.0069\n",
            "[355] loss: 0.0084\n",
            "[356] loss: 0.0086\n",
            "[357] loss: 0.0066\n",
            "[358] loss: 0.0064\n",
            "[359] loss: 0.0076\n",
            "[360] loss: 0.0079\n",
            "[361] loss: 0.0065\n",
            "[362] loss: 0.0063\n",
            "[363] loss: 0.0068\n",
            "[364] loss: 0.0067\n",
            "[365] loss: 0.0061\n",
            "[366] loss: 0.0060\n",
            "[367] loss: 0.0073\n",
            "[368] loss: 0.0061\n",
            "[369] loss: 0.0064\n",
            "[370] loss: 0.0070\n",
            "[371] loss: 0.0059\n",
            "[372] loss: 0.0082\n",
            "[373] loss: 0.0078\n",
            "[374] loss: 0.0063\n",
            "[375] loss: 0.0063\n",
            "[376] loss: 0.0061\n",
            "[377] loss: 0.0071\n",
            "[378] loss: 0.0064\n",
            "[379] loss: 0.0083\n",
            "[380] loss: 0.0062\n",
            "[381] loss: 0.0071\n",
            "[382] loss: 0.0062\n",
            "[383] loss: 0.0068\n",
            "[384] loss: 0.0061\n",
            "[385] loss: 0.0059\n",
            "[386] loss: 0.0051\n",
            "[387] loss: 0.0067\n",
            "[388] loss: 0.0061\n",
            "[389] loss: 0.0070\n",
            "[390] loss: 0.0079\n",
            "[391] loss: 0.0057\n",
            "[392] loss: 0.0064\n",
            "[393] loss: 0.0076\n",
            "[394] loss: 0.0077\n",
            "[395] loss: 0.0081\n",
            "[396] loss: 0.0059\n",
            "[397] loss: 0.0075\n",
            "[398] loss: 0.0057\n",
            "[399] loss: 0.0089\n",
            "[400] loss: 0.0063\n"
          ]
        }
      ]
    },
    {
      "cell_type": "code",
      "source": [
        "plt.plot(loss_)\n",
        "plt.title(\"Training Loss\")\n",
        "plt.xlabel(\"Epoch\")\n",
        "plt.show()"
      ],
      "metadata": {
        "colab": {
          "base_uri": "https://localhost:8080/",
          "height": 472
        },
        "id": "HPocVEmBvfPr",
        "outputId": "cc73c349-237f-413b-9a51-836dc09599c3"
      },
      "execution_count": null,
      "outputs": [
        {
          "output_type": "display_data",
          "data": {
            "text/plain": [
              "<Figure size 640x480 with 1 Axes>"
            ],
            "image/png": "[encoded data removed]"
          },
          "metadata": {}
        }
      ]
    },
    {
      "cell_type": "code",
      "source": [
        "def evaluation(dataloader):\n",
        "    predictions = torch.tensor([], dtype=torch.float) # 예측값을 저장하는 텐서\n",
        "    actual = torch.tensor([], dtype=torch.float) # 실제값을 저장하는 텐서\n",
        "    with torch.no_grad():\n",
        "        model.eval() # 평가를 할 때에는 .eval() 반드시 사용해야 한다.\n",
        "        for data in dataloader:\n",
        "            inputs, values = data\n",
        "            outputs = model(inputs)\n",
        "            predictions = torch.cat((predictions, outputs), 0)\n",
        "            # cat을 통해 예측값을 누적\n",
        "            # torch.cat에서 0이라는 것은 0번째 차원을 기준으로 누적한다는 의미\n",
        "            # (예를 들어 10x2와 10x2인 두 텐서가 있을 때,\n",
        "            # cat기준이 0이면 20x2가 되고 1이면 10x4가 결과로 나온다).\n",
        "            actual = torch.cat((actual, values), 0)\n",
        "            # cat을 통해 실제값을 누적\n",
        "    predictions = predictions.numpy() # 넘파이 배열로 변경\n",
        "    actual = actual.numpy() # 넘파이 배열로 변경\n",
        "    rmse = np.sqrt(mean_squared_error(predictions, actual)) # sklearn을 이용하여 RMSE 계산\n",
        "    return rmse\n",
        "# 평가 시 .eval()을 사용해야 하는 이유\n",
        "# 평가 시에는 온전한 모델로 평가를 해야하는데 .eval()이 아닌 .train()인 경우 드랍아웃이 활성화 되어 있다.\n",
        "# 따라서 드랍아웃이나 배치 정규화 등과 같이 학습 시에만 사용하는 기술들을 평가 시에는 비활성화 해야만 한다."
      ],
      "metadata": {
        "id": "rdeS9XZgwrXi"
      },
      "execution_count": null,
      "outputs": []
    },
    {
      "cell_type": "code",
      "source": [
        "train_rmse = evaluation(trainloader)\n",
        "test_rmse = evaluation(testloader)\n",
        "\n",
        "print(\"Train RMSE: \" ,train_rmse)\n",
        "print(\"Test RMSE:\",test_rmse)"
      ],
      "metadata": {
        "colab": {
          "base_uri": "https://localhost:8080/"
        },
        "id": "nIUThtO3yVp8",
        "outputId": "124c165f-44d5-49ce-ec4a-e8749538c142"
      },
      "execution_count": null,
      "outputs": [
        {
          "output_type": "stream",
          "name": "stdout",
          "text": [
            "Train RMSE:  0.05652057\n",
            "Test RMSE: 0.05652057\n"
          ]
        }
      ]
    },
    {
      "cell_type": "code",
      "source": [],
      "metadata": {
        "id": "EBWGVGRf0MGW"
      },
      "execution_count": null,
      "outputs": []
    },
    {
      "cell_type": "code",
      "source": [],
      "metadata": {
        "id": "KgL4O41WyjYC"
      },
      "execution_count": null,
      "outputs": []
    }
  ]
}